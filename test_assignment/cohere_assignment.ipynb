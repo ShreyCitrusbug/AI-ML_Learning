{
 "cells": [
  {
   "cell_type": "code",
   "execution_count": 19,
   "metadata": {},
   "outputs": [],
   "source": [
    "import cohere\n",
    "import os\n",
    "import PyPDF2\n",
    "import json\n",
    "import re\n",
    "from datetime import datetime\n",
    "\n",
    "co = cohere.Client(api_key=os.getenv(\"COHERE_API_KEY\"))"
   ]
  },
  {
   "cell_type": "code",
   "execution_count": 20,
   "metadata": {},
   "outputs": [],
   "source": [
    "pdf_obj = open(\"Draft-OASIS-E All Items_03122020.pdf\", \"rb\")\n",
    "pdf_reader = PyPDF2.PdfReader(pdf_obj)\n",
    "num_pages = len(pdf_reader.pages)\n",
    "detected_text = \"\"\n",
    "\n",
    "for page_num in range(1, num_pages):\n",
    "    page_obj = pdf_reader.pages[page_num]\n",
    "    detected_text += page_obj.extract_text() + \"\\n\\n\"\n",
    "pdf_obj.close()"
   ]
  },
  {
   "cell_type": "code",
   "execution_count": 21,
   "metadata": {},
   "outputs": [],
   "source": [
    "def extract_questions_options(text):\n",
    "    # Regex pattern to identify questions (starting with a capital letter or ending with a question mark)\n",
    "    question_pattern = re.compile(r\"^[A-Z].*|.*\\?$\")\n",
    "    # Regex pattern to identify options (starting with a letter/number and a period)\n",
    "    option_pattern = re.compile(r\"^([A-Za-z0-9]{1,2}|[A-Z]{2})\\.\")\n",
    "    # Regex pattern to identify footer text (e.g., page numbers, common footer phrases)\n",
    "    footer_pattern = re.compile(\n",
    "        r\"(Page \\d+ of \\d+|OASIS-E All Items|OASIS- E All Items|Effective \\d{2}/\\d{2}/\\d{4})|Centers for Medicare & Medicaid Services|Enter Code\"\n",
    "    )\n",
    "\n",
    "    # Split the text into lines for easier processing\n",
    "    lines = text.split(\"\\n\")\n",
    "\n",
    "    q_and_o = []\n",
    "    current_question = None\n",
    "\n",
    "    for line in lines:\n",
    "        line = line.strip()\n",
    "        if footer_pattern.match(line):\n",
    "            continue  # Skip footer lines\n",
    "        if question_pattern.match(line) and not option_pattern.match(line):\n",
    "            if (\n",
    "                current_question\n",
    "            ):  # If there is a current question, store it before starting a new one\n",
    "                q_and_o.append(current_question)\n",
    "            current_question = {\"question\": line, \"options\": []}\n",
    "        elif option_pattern.match(line):\n",
    "            if current_question:  # Add option to the current question\n",
    "                current_question[\"options\"].append(line)\n",
    "\n",
    "    # Append the last question-options pair\n",
    "    if current_question:\n",
    "        q_and_o.append(current_question)\n",
    "\n",
    "    return q_and_o"
   ]
  },
  {
   "cell_type": "code",
   "execution_count": 22,
   "metadata": {},
   "outputs": [],
   "source": [
    "questions_options = extract_questions_options(detected_text)"
   ]
  },
  {
   "cell_type": "code",
   "execution_count": 23,
   "metadata": {},
   "outputs": [],
   "source": [
    "questions_options_json = json.dumps(questions_options, indent=4)"
   ]
  },
  {
   "cell_type": "code",
   "execution_count": 24,
   "metadata": {},
   "outputs": [],
   "source": [
    "with open(f\"{datetime.now().strftime('%Y-%m-%d')}__questions.json\", \"w\") as json_file:\n",
    "    json_file.write(questions_options_json)"
   ]
  },
  {
   "cell_type": "code",
   "execution_count": 25,
   "metadata": {},
   "outputs": [],
   "source": [
    "with open(\"2024-05-29__questions.json\", \"r\") as f:\n",
    "    file1_data = json.load(f)"
   ]
  },
  {
   "cell_type": "code",
   "execution_count": 26,
   "metadata": {},
   "outputs": [],
   "source": [
    "with open(\"answers.txt\", \"r\") as f:\n",
    "    file2_data = f.read()"
   ]
  },
  {
   "cell_type": "code",
   "execution_count": 27,
   "metadata": {},
   "outputs": [],
   "source": [
    "prompt = f\"\"\"\n",
    "You have been provided two sets of data. One contains questions and options as keys of a JSON object. The second contains text of questions and answers in random order. Your task is to return structured output in the form of question and corresponding answer.\n",
    "\n",
    "Here are the details:\n",
    "** File 1 (JSON) **\n",
    "{json.dumps(file1_data, indent=4)}\n",
    "\n",
    "** File 2 (text) ** \n",
    "{file2_data}\n",
    "\n",
    "** Instructions ** \n",
    "1. Match each question from file 1 with the corresponding answer from file 2.\n",
    "2. Return the structured output as follows:\n",
    "   - question: The question text.\n",
    "   - answer: The correct answer.\n",
    "\n",
    "** Example output **\n",
    "[\n",
    "    {{\n",
    "        \"question\": \"Are you of Hispanic, Latino/a, or Spanish origin?\",\n",
    "        \"answer\": \"Yes, Cuban\" \n",
    "    }}\n",
    "]\n",
    "\n",
    "Please provide me with the questions and their corresponding answers from both files. Ensure that the questions are paired correctly with their respective answers.\n",
    "\"\"\""
   ]
  },
  {
   "cell_type": "code",
   "execution_count": 28,
   "metadata": {},
   "outputs": [],
   "source": [
    "messages = [\n",
    "    {\"role\": \"system\", \"content\": \"You are a helpful assistant.\"},\n",
    "    {\"role\": \"user\", \"content\": prompt},\n",
    "]"
   ]
  },
  {
   "cell_type": "code",
   "execution_count": 29,
   "metadata": {},
   "outputs": [],
   "source": [
    "response = co.chat(\n",
    "    model=\"command-r\",\n",
    "    message=prompt,\n",
    "    temperature=0.5,\n",
    ")"
   ]
  },
  {
   "cell_type": "code",
   "execution_count": 30,
   "metadata": {},
   "outputs": [
    {
     "name": "stdout",
     "output_type": "stream",
     "text": [
      "Here is the structured output based on your instructions:\n",
      "```json\n",
      "[\n",
      "    {\n",
      "        \"question\": \"From which of the following Inpatient Facilities was the patient discharged within the past 14 days?\",\n",
      "        \"answer\": \"Short-stay acute hospital (IPPS)\"\n",
      "    },\n",
      "    {\n",
      "        \"question\": \"SOC/ROC assessment indicates the patient is not at risk of\",\n",
      "        \"answer\": \"Pressure ulcer treatment based on\"\n",
      "    },\n",
      "    {\n",
      "        \"question\": \"Reported or observed within the last 14 days.\",\n",
      "        \"answer\": \"During the day and evening, but not constantly\"\n",
      "    },\n",
      "    {\n",
      "        \"question\": \"How often do you feel lonely or isolated from those around you?\",\n",
      "        \"answer\": \"Rarely\"\n",
      "    },\n",
      "    {\n",
      "        \"question\": \"Current Payment Sources for Home Care\",\n",
      "        \"answer\": \"Medicaid (traditional fee-for-service)\"\n",
      "    },\n",
      "    {\n",
      "        \"question\": \"Has lack of transportation kept you from medical appointments, meetings, work, or from getting things needed for daily living?\",\n",
      "        \"answer\": \"Yes, it has kept me from non -medical meetings, appointments, work, or from getting things that I need\"\n",
      "    },\n",
      "    {\n",
      "        \"question\": \"How often do you feel lonely or isolated from those around you?\",\n",
      "        \"answer\": \"Rarely\"\n",
      "    },\n",
      "    {\n",
      "        \"question\": \"Ability to hear (with hearing aid or hearing appliances if normally used)\",\n",
      "        \"answer\": \"Minimal difficulty – difficulty in some environments (e.g., when person speaks softly, or setting is noisy)\"\n",
      "    }\n",
      "]\n",
      "```\n"
     ]
    }
   ],
   "source": [
    "print(response.text)"
   ]
  },
  {
   "cell_type": "code",
   "execution_count": null,
   "metadata": {},
   "outputs": [],
   "source": []
  }
 ],
 "metadata": {
  "kernelspec": {
   "display_name": "venv_AI",
   "language": "python",
   "name": "python3"
  },
  "language_info": {
   "codemirror_mode": {
    "name": "ipython",
    "version": 3
   },
   "file_extension": ".py",
   "mimetype": "text/x-python",
   "name": "python",
   "nbconvert_exporter": "python",
   "pygments_lexer": "ipython3",
   "version": "3.9.7"
  }
 },
 "nbformat": 4,
 "nbformat_minor": 2
}
