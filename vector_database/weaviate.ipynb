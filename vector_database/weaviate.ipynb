{
 "cells": [
  {
   "cell_type": "markdown",
   "metadata": {},
   "source": [
    "Getting Started with Weaviate"
   ]
  },
  {
   "cell_type": "code",
   "execution_count": 37,
   "metadata": {},
   "outputs": [],
   "source": [
    "import weaviate\n",
    "import os"
   ]
  },
  {
   "cell_type": "code",
   "execution_count": 38,
   "metadata": {},
   "outputs": [
    {
     "name": "stderr",
     "output_type": "stream",
     "text": [
      "c:\\Citrusbug-Project\\AI-ML_Learning\\venv_AI\\lib\\site-packages\\weaviate\\warnings.py:162: DeprecationWarning: Dep016: Python client v3 `weaviate.Client(...)` connections and methods are deprecated. Update\n",
      "            your code to use Python client v4 `weaviate.WeaviateClient` connections and methods.\n",
      "\n",
      "            For Python Client v4 usage, see: https://weaviate.io/developers/weaviate/client-libraries/python\n",
      "            For code migration, see: https://weaviate.io/developers/weaviate/client-libraries/python/v3_v4_migration\n",
      "            \n",
      "  warnings.warn(\n",
      "C:\\Users\\Citrusbug Technolabs\\AppData\\Local\\Temp\\ipykernel_14564\\2092914931.py:1: ResourceWarning: unclosed <ssl.SSLSocket fd=2744, family=AddressFamily.AF_INET, type=SocketKind.SOCK_STREAM, proto=0, laddr=('192.168.1.9', 62045), raddr=('34.149.137.116', 443)>\n",
      "  client = weaviate.Client(\n",
      "ResourceWarning: Enable tracemalloc to get the object allocation traceback\n"
     ]
    }
   ],
   "source": [
    "client = weaviate.Client(\n",
    "    url=os.getenv(\"WEAVIATE_CLUSTER_URL\"),\n",
    "    additional_headers={\n",
    "        \"Authorization\": f\"Bearer {os.getenv('WEAVIATE_API_KEY')}\",\n",
    "        \"Content-Type\": \"application/json\",\n",
    "        \"X-OpenAI-Api-Key\": os.getenv(\"OPEN_API_KEY\"),\n",
    "    },\n",
    ")"
   ]
  },
  {
   "cell_type": "code",
   "execution_count": 39,
   "metadata": {},
   "outputs": [],
   "source": [
    "# client = weaviate.connect_to_wcs(\n",
    "#     # Replace with your Weaviate Cloud URL\n",
    "#     cluster_url=os.getenv(\"WEAVIATE_CLUSTER_URL\"),\n",
    "#     auth_credentials=weaviate.auth.AuthApiKey(\n",
    "#         os.getenv(\"WEAVIATE_API_KEY\")\n",
    "#     ),  # Replace with your Weaviate Cloud key\n",
    "#     # Replace with your OpenAI API key\n",
    "#     headers={\"X-OpenAI-Api-key\": os.getenv(\"OPEN_API_KEY\")},\n",
    "# )"
   ]
  },
  {
   "cell_type": "markdown",
   "metadata": {},
   "source": [
    "To check if everything is set up correctly, run:\n",
    "\n"
   ]
  },
  {
   "cell_type": "code",
   "execution_count": 40,
   "metadata": {},
   "outputs": [
    {
     "data": {
      "text/plain": [
       "True"
      ]
     },
     "execution_count": 40,
     "metadata": {},
     "output_type": "execute_result"
    }
   ],
   "source": [
    "client.is_ready()"
   ]
  },
  {
   "cell_type": "markdown",
   "metadata": {},
   "source": [
    "How to Create and Populate a Weaviate Vector Database"
   ]
  },
  {
   "cell_type": "code",
   "execution_count": 41,
   "metadata": {},
   "outputs": [],
   "source": [
    "import pandas as pd\n",
    "\n",
    "df = pd.read_csv(\"jeopardy_questions.csv\", nrows=100)"
   ]
  },
  {
   "cell_type": "code",
   "execution_count": 42,
   "metadata": {},
   "outputs": [
    {
     "data": {
      "text/html": [
       "<div>\n",
       "<style scoped>\n",
       "    .dataframe tbody tr th:only-of-type {\n",
       "        vertical-align: middle;\n",
       "    }\n",
       "\n",
       "    .dataframe tbody tr th {\n",
       "        vertical-align: top;\n",
       "    }\n",
       "\n",
       "    .dataframe thead th {\n",
       "        text-align: right;\n",
       "    }\n",
       "</style>\n",
       "<table border=\"1\" class=\"dataframe\">\n",
       "  <thead>\n",
       "    <tr style=\"text-align: right;\">\n",
       "      <th></th>\n",
       "      <th>show_number</th>\n",
       "      <th>air_date</th>\n",
       "      <th>round</th>\n",
       "      <th>category</th>\n",
       "      <th>value</th>\n",
       "      <th>question</th>\n",
       "      <th>answer</th>\n",
       "    </tr>\n",
       "  </thead>\n",
       "  <tbody>\n",
       "    <tr>\n",
       "      <th>0</th>\n",
       "      <td>4680</td>\n",
       "      <td>12/31/04</td>\n",
       "      <td>Jeopardy!</td>\n",
       "      <td>HISTORY</td>\n",
       "      <td>200.0</td>\n",
       "      <td>For the last 8 years of his life, Galileo was ...</td>\n",
       "      <td>Copernicus</td>\n",
       "    </tr>\n",
       "    <tr>\n",
       "      <th>1</th>\n",
       "      <td>4680</td>\n",
       "      <td>12/31/04</td>\n",
       "      <td>Jeopardy!</td>\n",
       "      <td>ESPN's TOP 10 ALL-TIME ATHLETES</td>\n",
       "      <td>200.0</td>\n",
       "      <td>No. 2: 1912 Olympian; football star at Carlisl...</td>\n",
       "      <td>Jim Thorpe</td>\n",
       "    </tr>\n",
       "    <tr>\n",
       "      <th>2</th>\n",
       "      <td>4680</td>\n",
       "      <td>12/31/04</td>\n",
       "      <td>Jeopardy!</td>\n",
       "      <td>EVERYBODY TALKS ABOUT IT...</td>\n",
       "      <td>200.0</td>\n",
       "      <td>The city of Yuma in this state has a record av...</td>\n",
       "      <td>Arizona</td>\n",
       "    </tr>\n",
       "    <tr>\n",
       "      <th>3</th>\n",
       "      <td>4680</td>\n",
       "      <td>12/31/04</td>\n",
       "      <td>Jeopardy!</td>\n",
       "      <td>THE COMPANY LINE</td>\n",
       "      <td>200.0</td>\n",
       "      <td>In 1963, live on \"The Art Linkletter Show\", th...</td>\n",
       "      <td>McDonald's</td>\n",
       "    </tr>\n",
       "    <tr>\n",
       "      <th>4</th>\n",
       "      <td>4680</td>\n",
       "      <td>12/31/04</td>\n",
       "      <td>Jeopardy!</td>\n",
       "      <td>EPITAPHS &amp; TRIBUTES</td>\n",
       "      <td>200.0</td>\n",
       "      <td>Signer of the Dec. of Indep., framer of the Co...</td>\n",
       "      <td>John Adams</td>\n",
       "    </tr>\n",
       "    <tr>\n",
       "      <th>...</th>\n",
       "      <td>...</td>\n",
       "      <td>...</td>\n",
       "      <td>...</td>\n",
       "      <td>...</td>\n",
       "      <td>...</td>\n",
       "      <td>...</td>\n",
       "      <td>...</td>\n",
       "    </tr>\n",
       "    <tr>\n",
       "      <th>95</th>\n",
       "      <td>5957</td>\n",
       "      <td>7/6/10</td>\n",
       "      <td>Double Jeopardy!</td>\n",
       "      <td>SEE &amp; SAY</td>\n",
       "      <td>800.0</td>\n",
       "      <td>Say &lt;a href=\"http://www.j-archive.com/media/20...</td>\n",
       "      <td>Oregon</td>\n",
       "    </tr>\n",
       "    <tr>\n",
       "      <th>96</th>\n",
       "      <td>5957</td>\n",
       "      <td>7/6/10</td>\n",
       "      <td>Double Jeopardy!</td>\n",
       "      <td>NEWS TO ME</td>\n",
       "      <td>800.0</td>\n",
       "      <td>This car company has been in the news for wide...</td>\n",
       "      <td>Toyota</td>\n",
       "    </tr>\n",
       "    <tr>\n",
       "      <th>97</th>\n",
       "      <td>5957</td>\n",
       "      <td>7/6/10</td>\n",
       "      <td>Double Jeopardy!</td>\n",
       "      <td>IN THE DICTIONARY</td>\n",
       "      <td>800.0</td>\n",
       "      <td>As an adjective, it can mean proper; as a verb...</td>\n",
       "      <td>correct</td>\n",
       "    </tr>\n",
       "    <tr>\n",
       "      <th>98</th>\n",
       "      <td>5957</td>\n",
       "      <td>7/6/10</td>\n",
       "      <td>Double Jeopardy!</td>\n",
       "      <td>SCIENCE CLASS</td>\n",
       "      <td>1200.0</td>\n",
       "      <td>The wedge is an adaptation of the simple machi...</td>\n",
       "      <td>plane</td>\n",
       "    </tr>\n",
       "    <tr>\n",
       "      <th>99</th>\n",
       "      <td>5957</td>\n",
       "      <td>7/6/10</td>\n",
       "      <td>Double Jeopardy!</td>\n",
       "      <td>KIDS IN SPORTS</td>\n",
       "      <td>1200.0</td>\n",
       "      <td>With a mighty leap of 5'1\", David Mosely set t...</td>\n",
       "      <td>the high jump</td>\n",
       "    </tr>\n",
       "  </tbody>\n",
       "</table>\n",
       "<p>100 rows × 7 columns</p>\n",
       "</div>"
      ],
      "text/plain": [
       "    show_number  air_date             round                         category  \\\n",
       "0          4680  12/31/04         Jeopardy!                          HISTORY   \n",
       "1          4680  12/31/04         Jeopardy!  ESPN's TOP 10 ALL-TIME ATHLETES   \n",
       "2          4680  12/31/04         Jeopardy!      EVERYBODY TALKS ABOUT IT...   \n",
       "3          4680  12/31/04         Jeopardy!                 THE COMPANY LINE   \n",
       "4          4680  12/31/04         Jeopardy!              EPITAPHS & TRIBUTES   \n",
       "..          ...       ...               ...                              ...   \n",
       "95         5957    7/6/10  Double Jeopardy!                        SEE & SAY   \n",
       "96         5957    7/6/10  Double Jeopardy!                       NEWS TO ME   \n",
       "97         5957    7/6/10  Double Jeopardy!                IN THE DICTIONARY   \n",
       "98         5957    7/6/10  Double Jeopardy!                    SCIENCE CLASS   \n",
       "99         5957    7/6/10  Double Jeopardy!                   KIDS IN SPORTS   \n",
       "\n",
       "     value                                           question         answer  \n",
       "0    200.0  For the last 8 years of his life, Galileo was ...     Copernicus  \n",
       "1    200.0  No. 2: 1912 Olympian; football star at Carlisl...     Jim Thorpe  \n",
       "2    200.0  The city of Yuma in this state has a record av...        Arizona  \n",
       "3    200.0  In 1963, live on \"The Art Linkletter Show\", th...     McDonald's  \n",
       "4    200.0  Signer of the Dec. of Indep., framer of the Co...     John Adams  \n",
       "..     ...                                                ...            ...  \n",
       "95   800.0  Say <a href=\"http://www.j-archive.com/media/20...         Oregon  \n",
       "96   800.0  This car company has been in the news for wide...         Toyota  \n",
       "97   800.0  As an adjective, it can mean proper; as a verb...        correct  \n",
       "98  1200.0  The wedge is an adaptation of the simple machi...          plane  \n",
       "99  1200.0  With a mighty leap of 5'1\", David Mosely set t...  the high jump  \n",
       "\n",
       "[100 rows x 7 columns]"
      ]
     },
     "execution_count": 42,
     "metadata": {},
     "output_type": "execute_result"
    }
   ],
   "source": [
    "df"
   ]
  },
  {
   "cell_type": "markdown",
   "metadata": {},
   "source": [
    "Step 1: Create a Schema"
   ]
  },
  {
   "cell_type": "code",
   "execution_count": 43,
   "metadata": {},
   "outputs": [],
   "source": [
    "class_obj = {\n",
    "    # Class definition\n",
    "    \"class\": \"JeopardyQuestion\",\n",
    "    # Property definitions\n",
    "    \"properties\": [\n",
    "        {\n",
    "            \"name\": \"category\",\n",
    "            \"dataType\": [\"text\"],\n",
    "        },\n",
    "        {\n",
    "            \"name\": \"question\",\n",
    "            \"dataType\": [\"text\"],\n",
    "        },\n",
    "        {\n",
    "            \"name\": \"answer\",\n",
    "            \"dataType\": [\"text\"],\n",
    "        },\n",
    "    ],\n",
    "    # Specify a vectorizer\n",
    "    \"vectorizer\": \"text2vec-openai\",\n",
    "    # Module settings\n",
    "    \"moduleConfig\": {\n",
    "        \"text2vec-openai\": {\n",
    "            \"vectorizeClassName\": False,\n",
    "            \"model\": \"ada\",\n",
    "            \"modelVersion\": \"002\",\n",
    "            \"type\": \"text\",\n",
    "        },\n",
    "    },\n",
    "}"
   ]
  },
  {
   "cell_type": "markdown",
   "metadata": {},
   "source": [
    " create the class with the create_class() method."
   ]
  },
  {
   "cell_type": "code",
   "execution_count": 44,
   "metadata": {},
   "outputs": [],
   "source": [
    "client.schema.create_class(class_obj)"
   ]
  },
  {
   "cell_type": "code",
   "execution_count": 45,
   "metadata": {},
   "outputs": [
    {
     "data": {
      "text/plain": [
       "{'class': 'JeopardyQuestion',\n",
       " 'invertedIndexConfig': {'bm25': {'b': 0.75, 'k1': 1.2},\n",
       "  'cleanupIntervalSeconds': 60,\n",
       "  'stopwords': {'additions': None, 'preset': 'en', 'removals': None}},\n",
       " 'moduleConfig': {'text2vec-openai': {'baseURL': 'https://api.openai.com',\n",
       "   'model': 'ada',\n",
       "   'modelVersion': '002',\n",
       "   'type': 'text',\n",
       "   'vectorizeClassName': False}},\n",
       " 'multiTenancyConfig': {'enabled': False},\n",
       " 'properties': [{'dataType': ['text'],\n",
       "   'indexFilterable': True,\n",
       "   'indexSearchable': True,\n",
       "   'moduleConfig': {'text2vec-openai': {'skip': False,\n",
       "     'vectorizePropertyName': False}},\n",
       "   'name': 'category',\n",
       "   'tokenization': 'word'},\n",
       "  {'dataType': ['text'],\n",
       "   'indexFilterable': True,\n",
       "   'indexSearchable': True,\n",
       "   'moduleConfig': {'text2vec-openai': {'skip': False,\n",
       "     'vectorizePropertyName': False}},\n",
       "   'name': 'question',\n",
       "   'tokenization': 'word'},\n",
       "  {'dataType': ['text'],\n",
       "   'indexFilterable': True,\n",
       "   'indexSearchable': True,\n",
       "   'moduleConfig': {'text2vec-openai': {'skip': False,\n",
       "     'vectorizePropertyName': False}},\n",
       "   'name': 'answer',\n",
       "   'tokenization': 'word'}],\n",
       " 'replicationConfig': {'factor': 1},\n",
       " 'shardingConfig': {'virtualPerPhysical': 128,\n",
       "  'desiredCount': 1,\n",
       "  'actualCount': 1,\n",
       "  'desiredVirtualCount': 128,\n",
       "  'actualVirtualCount': 128,\n",
       "  'key': '_id',\n",
       "  'strategy': 'hash',\n",
       "  'function': 'murmur3'},\n",
       " 'vectorIndexConfig': {'skip': False,\n",
       "  'cleanupIntervalSeconds': 300,\n",
       "  'maxConnections': 64,\n",
       "  'efConstruction': 128,\n",
       "  'ef': -1,\n",
       "  'dynamicEfMin': 100,\n",
       "  'dynamicEfMax': 500,\n",
       "  'dynamicEfFactor': 8,\n",
       "  'vectorCacheMaxObjects': 1000000000000,\n",
       "  'flatSearchCutoff': 40000,\n",
       "  'distance': 'cosine',\n",
       "  'pq': {'enabled': False,\n",
       "   'bitCompression': False,\n",
       "   'segments': 0,\n",
       "   'centroids': 256,\n",
       "   'trainingLimit': 100000,\n",
       "   'encoder': {'type': 'kmeans', 'distribution': 'log-normal'}},\n",
       "  'bq': {'enabled': False}},\n",
       " 'vectorIndexType': 'hnsw',\n",
       " 'vectorizer': 'text2vec-openai'}"
      ]
     },
     "execution_count": 45,
     "metadata": {},
     "output_type": "execute_result"
    }
   ],
   "source": [
    "client.schema.get(\"JeopardyQuestion\")"
   ]
  },
  {
   "cell_type": "markdown",
   "metadata": {},
   "source": [
    "Step 2: Import data into Weaviate\n",
    "\n",
    "At this stage, the vector database has a schema but is still empty. So, let’s populate it with our dataset. This process is also called “upserting”."
   ]
  },
  {
   "cell_type": "code",
   "execution_count": 53,
   "metadata": {},
   "outputs": [
    {
     "name": "stdout",
     "output_type": "stream",
     "text": [
      "{'error': [{'message': 'update vector: connection to: OpenAI API failed with status: 429 error: You exceeded your current quota, please check your plan and billing details. For more information on this error, read the docs: https://platform.openai.com/docs/guides/error-codes/api-errors.'}]}\n"
     ]
    }
   ],
   "source": [
    "from weaviate.util import generate_uuid5\n",
    "\n",
    "with client.batch(batch_size=2, num_workers=2) as batch:\n",
    "    for _, row in list(df.iterrows())[:1]:\n",
    "        question_object = {\n",
    "            \"category\": row.category,\n",
    "            \"question\": row.question,\n",
    "            \"answer\": row.answer,\n",
    "        }\n",
    "        batch.add_data_object(\n",
    "            question_object,\n",
    "            class_name=\"JeopardyQuestion\",\n",
    "            uuid=generate_uuid5(question_object),\n",
    "        )"
   ]
  },
  {
   "cell_type": "code",
   "execution_count": null,
   "metadata": {},
   "outputs": [],
   "source": []
  }
 ],
 "metadata": {
  "kernelspec": {
   "display_name": "venv_AI",
   "language": "python",
   "name": "python3"
  },
  "language_info": {
   "codemirror_mode": {
    "name": "ipython",
    "version": 3
   },
   "file_extension": ".py",
   "mimetype": "text/x-python",
   "name": "python",
   "nbconvert_exporter": "python",
   "pygments_lexer": "ipython3",
   "version": "3.9.7"
  }
 },
 "nbformat": 4,
 "nbformat_minor": 2
}
