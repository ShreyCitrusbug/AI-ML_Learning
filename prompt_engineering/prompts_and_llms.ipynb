{
 "cells": [
  {
   "cell_type": "code",
   "execution_count": 10,
   "metadata": {},
   "outputs": [],
   "source": [
    "import cohere\n",
    "import os\n",
    "\n",
    "cohere_obj = cohere.Client(api_key=os.getenv(\"COHERE_API_KEY\"))"
   ]
  },
  {
   "cell_type": "code",
   "execution_count": 11,
   "metadata": {},
   "outputs": [],
   "source": [
    "message = \"\"\"\n",
    "## Instructions\n",
    "Summarize the text below.\n",
    "\n",
    "## Input Text\n",
    "{input_text}\n",
    "\"\"\""
   ]
  },
  {
   "cell_type": "code",
   "execution_count": 12,
   "metadata": {},
   "outputs": [],
   "source": [
    "response = cohere_obj.chat(model=\"command-r\", message=message, temperature=0.3)"
   ]
  },
  {
   "cell_type": "code",
   "execution_count": 13,
   "metadata": {},
   "outputs": [
    {
     "name": "stdout",
     "output_type": "stream",
     "text": [
      "text='The text discusses the concept of emotional contagion and how emotions can spread between individuals, especially in group settings. It highlights two studies: one finding that positive emotions are more likely to spread in groups, while the other finds the opposite, that negative emotions are more contagious. \\n\\nThe phenomenon of emotional contagion is supported by evolutionary theories, which suggest emotions evolved to encourage social bonding and group cohesion. However, the spread of emotions is complex, influenced by individual differences, cultural factors, and the context in which they are expressed. \\n\\nThe article also touches on the impact of media on emotional contagion, suggesting it can amplify emotions and influence public sentiment. Overall, this summary text provides an overview of the fascinating field of emotional contagion, detailing its importance in social dynamics and some of the factors that influence it.' generation_id='8c7cc816-3e66-4f51-8979-9c645cebd7e8' citations=None documents=None is_search_required=None search_queries=None search_results=None finish_reason='COMPLETE' tool_calls=None chat_history=[Message_User(message='\\n## Instructions\\nSummarize the text below.\\n\\n## Input Text\\n{input_text}\\n', tool_calls=None, role='USER'), Message_Chatbot(message='The text discusses the concept of emotional contagion and how emotions can spread between individuals, especially in group settings. It highlights two studies: one finding that positive emotions are more likely to spread in groups, while the other finds the opposite, that negative emotions are more contagious. \\n\\nThe phenomenon of emotional contagion is supported by evolutionary theories, which suggest emotions evolved to encourage social bonding and group cohesion. However, the spread of emotions is complex, influenced by individual differences, cultural factors, and the context in which they are expressed. \\n\\nThe article also touches on the impact of media on emotional contagion, suggesting it can amplify emotions and influence public sentiment. Overall, this summary text provides an overview of the fascinating field of emotional contagion, detailing its importance in social dynamics and some of the factors that influence it.', tool_calls=None, role='CHATBOT')] prompt=None meta=ApiMeta(api_version=ApiMetaApiVersion(version='1', is_deprecated=None, is_experimental=None), billed_units=ApiMetaBilledUnits(input_tokens=22, output_tokens=164, search_units=None, classifications=None), tokens=ApiMetaTokens(input_tokens=86, output_tokens=164), warnings=None) response_id='9d96f815-239a-408e-b637-f73248ce03f6'\n"
     ]
    }
   ],
   "source": [
    "print(response)"
   ]
  },
  {
   "cell_type": "code",
   "execution_count": 14,
   "metadata": {},
   "outputs": [],
   "source": [
    "def generate_text(message, temp=None):\n",
    "    stream = cohere_obj.chat_stream(\n",
    "        message=message, model=\"command-r\", temperature=temp, preamble=\"\"\n",
    "    )\n",
    "    for event in stream:\n",
    "        if event.event_type == \"text-generation\":\n",
    "            print(event.text, end=\"\")"
   ]
  },
  {
   "cell_type": "code",
   "execution_count": 15,
   "metadata": {},
   "outputs": [
    {
     "name": "stdout",
     "output_type": "stream",
     "text": [
      "Experience the future of audio with our cutting-edge wireless earbuds. Immerse yourself in crystal-clear sound and enjoy the freedom of a tangle-free listening experience. Our earbuds deliver deep bass and crystal-clear highs, ensuring every note is heard with incredible clarity. The ergonomic design ensures a secure fit, while the portable charging case provides on-the-go convenience. With easy connectivity and a sleek look, these earbuds are the perfect companion for all your musical adventures. Upgrade to the ultimate wireless audio experience."
     ]
    }
   ],
   "source": [
    "generate_text(\n",
    "    \"Generate a concise product description for the product: wireless earbuds.\"\n",
    ")"
   ]
  },
  {
   "cell_type": "code",
   "execution_count": 16,
   "metadata": {},
   "outputs": [
    {
     "name": "stdout",
     "output_type": "stream",
     "text": [
      "Hook: Never miss a beat with our state-of-the-art wireless earbuds!\n",
      "\n",
      "Solution: Immerse yourself in crystal-clear audio and seamless connectivity.\n",
      "\n",
      "Features and Benefits: \n",
      "- Exceptional Sound Quality: Experience rich, immersive sound for an enhanced audio experience.\n",
      "- Secure and Comfortable Fit: Designed to fit snugly in your ears, ensuring comfort and minimizing distractions.\n",
      "- Easy Connectivity: Quick and reliable Bluetooth® pairing for a seamless wireless experience.\n",
      "- Long-Lasting Battery: Enjoy hours of uninterrupted listening with a portable charging case, keeping your earbuds powered on the go. \n",
      "\n",
      "Call to Action: Upgrade your audio experience now and unlock a whole new world of wireless freedom!"
     ]
    }
   ],
   "source": [
    "generate_text(\n",
    "    \"\"\"\n",
    "\n",
    "\n",
    "    Generate a concise product description for the product: wireless earbuds. \n",
    "\n",
    "\n",
    "    Use the following format: Hook, Solution, Features and Benefits, Call to Action.\n",
    "\n",
    "\n",
    "    \"\"\"\n",
    ")"
   ]
  },
  {
   "cell_type": "code",
   "execution_count": 17,
   "metadata": {},
   "outputs": [
    {
     "name": "stdout",
     "output_type": "stream",
     "text": [
      "The email is a heartfelt message of appreciation and gratitude addressed to the team members for their outstanding work and dedication in organizing a successful community meetup."
     ]
    }
   ],
   "source": [
    "generate_text(\n",
    "    \"\"\"\n",
    "\n",
    "\n",
    "    Summarize this email in one sentence.\n",
    "\n",
    "\n",
    "    Dear [Team Members],\n",
    "\n",
    "\n",
    "    I am writing to thank you for your hard work and dedication in organizing our recent community meetup. The event was a great success and it would not have been possible without your efforts.\n",
    "\n",
    "\n",
    "    I am especially grateful for the time and energy you have invested in making this event a reality. Your commitment to ensuring that everything ran smoothly and that our guests had a great time is greatly appreciated.\n",
    "\n",
    "\n",
    "    I am also thankful for the support and guidance you have provided to me throughout the planning process. Your insights and ideas have been invaluable in ensuring that the event was a success.\n",
    "\n",
    "\n",
    "    I am confident that our community will benefit greatly from this event and I am excited to see the positive impact it will have.\n",
    "\n",
    "\n",
    "    Thank you again for your hard work and dedication. I am looking forward to working with you on future events.\n",
    "\n",
    "\n",
    "    Sincerely,\n",
    "\n",
    "\n",
    "    [Your Name]\n",
    "\n",
    "\n",
    "    \"\"\"\n",
    ")"
   ]
  },
  {
   "cell_type": "code",
   "execution_count": 21,
   "metadata": {},
   "outputs": [
    {
     "name": "stdout",
     "output_type": "stream",
     "text": [
      "Introducing the Vivid-20R: Your World, Wireless! Immerse yourself in a world of seamless audio bliss with the Vivid-20R wireless headphones. Crafted with attention to detail, these sleek headphones deliver exceptional sound quality that brings your music to life. Experience the freedom of wireless connectivity and effortlessly switch between your favorite playlists and calls, as the Vivid-20R ensures you stay connected seamlessly.\n",
      "\n",
      "The Vivid-20R is designed to elevate your audio experience, with a focus on crisp clarity and powerful bass, ensuring every note and nuance is delivered with precision. Whether you're an avid music lover or a multimedia enthusiast, the Vivid-20R's versatile design has you covered.\n",
      "\n",
      "Crafted for comfort, the lightweight headphones feature plush ear cushions and an adjustable headband, ensuring hours of comfortable listening. And when the world calls, the built-in microphone lets you answer calls effortlessly, so you'll never miss a beat.\n",
      "\n",
      "With the Vivid-20R, discover a new level of convenience, as charging becomes a thing of the past, thanks to its long-lasting battery life. And when the battery does run low, a quick 10-minute charge will give you an impressive 2 hours of additional listening time!\n",
      "\n",
      "Elegantly designed with a fold-flat mechanism and a stylish carrying case, the Vivid-20R is a true companion for your on-the-go lifestyle. Whether you're commuting, working out, or just relaxing, these headphones deliver an unmatched combination of comfort, style, and immersive sound.\n",
      "\n",
      "Get ready to experience your audio like never before with the Vivid-20R wireless headphones. Upgrade now and step into a vivid audio world, untethered and extraordinary!"
     ]
    }
   ],
   "source": [
    "user_input = \"a wireless headphone product named the Vivid-20R\"\n",
    "prompt = f\"\"\"Write a creative product description for {user_input}\"\"\"\n",
    "\n",
    "generate_text(prompt, temp=0.5)"
   ]
  },
  {
   "cell_type": "code",
   "execution_count": 23,
   "metadata": {},
   "outputs": [
    {
     "name": "stdout",
     "output_type": "stream",
     "text": [
      "Introducing the Vivid-20R wireless headphones - the ultimate solution for software developers working in noisy offices. With its sleek design and comfortable fit, you can focus on your code without any distractions. Connect seamlessly via Bluetooth and enjoy the freedom of movement without the hassle of tangled wires.\n",
      "\n",
      "The Vivid-20R's fast charging technology ensures you're never left stranded without music. A quick 10-minute charge gives you a whopping 2 hours of listening time, perfect for those back-to-back meetings or coding marathons. And with a sleek, stylish design, you'll look as good as you feel while wearing them.\n",
      "\n",
      "Block out the distractions and immerse yourself in your development zone. The Vivid-20R's advanced noise cancellation technology filters out the bustling office noise, leaving you to focus on the task at hand. Whether you're listening to your favorite tunes or taking an important call, these headphones deliver crystal-clear audio that will keep you productive all day.\n",
      "\n",
      "But that's not all - the Vivid-20R also boasts a robust battery life, ensuring you can power through your workload without worrying about running out of juice. Get up to 20 hours of non-stop listening on a single charge! And when you're in a rush, the fast charging feature comes to your rescue, providing ample playback time while you're on the go.\n",
      "\n",
      "Crafted with comfort in mind, the Vivid-20R ensures you can wear it for extended periods without any discomfort. The ergonomic design and soft ear cushions make it a pleasure to use, allowing you to focus on your work, not your headphones.\n",
      "\n",
      "So, boost your productivity and say goodbye to noisy distractions with the Vivid-20R wireless headphones. Embrace the freedom of wireless connectivity, fast charging, and immersive sound, all designed to enhance your coding experience. Order now and experience the difference!"
     ]
    }
   ],
   "source": [
    "user_input_product = \"a wireless headphone product named the Vivid-20R\"\n",
    "user_input_keywords = '\"bluetooth\", \"wireless\", \"fast charging\"'\n",
    "user_input_customer = \"a software developer who works in noisy offices\"\n",
    "user_input_describe = \"benefits of this product\"\n",
    "\n",
    "prompt = f\"\"\"Write a creative product description for {user_input_product}, \\\n",
    "with the keywords {user_input_keywords} for {user_input_customer}, and describe {user_input_describe}.\"\"\"\n",
    "\n",
    "generate_text(prompt, temp=0.5)"
   ]
  },
  {
   "cell_type": "code",
   "execution_count": 24,
   "metadata": {},
   "outputs": [
    {
     "name": "stdout",
     "output_type": "stream",
     "text": [
      "The Vivid-20R wireless headphones are sleek, comfortable, and offer a high-quality audio experience. Here are some of its key features:\n",
      "\n",
      "1. Active Noise Cancellation (ANC): The Vivid-20R uses advanced active noise cancellation technology to block out background noise, allowing you to focus on your music or calls.\n",
      "\n",
      "2. Clear Calls: These headphones are designed to deliver clear and crisp calls, with a noise-canceling microphone that ensures your voice is heard even in noisy environments.\n",
      "\n",
      "3. Long Battery Life: The headphones offer a long battery life of up to 20 hours on a single charge, so you can use them throughout the day without worrying about running out of power.\n",
      "\n",
      "4. Fast Charging: When the battery does run low, a quick 10-minute charge will give you another two hours of use. \n",
      "\n",
      "5. Comfortable Design: The ergonomic design ensures comfort for extended periods. The earcups are padded with soft cushioning, and the headband has a gentle yet secure fit.\n",
      "\n",
      "6. Foldable & Portable: The Vivid-20R is designed to be portable with foldable earcups that make it easy to pack away in your bag or suitcase.\n",
      "\n",
      "7. Multi-Point Connection: The headphones can connect simultaneously to two devices, allowing you to switch seamlessly between your work and personal calls.\n",
      "\n",
      "8. Easy Controls: Volume, track selection, play/pause, and call management are all controlled intuitively through the earcup buttons.\n",
      "\n",
      "9. Rich Audio Experience: Immerse yourself in a rich audio landscape. 40mm dynamic drivers deliver deep bass and crystal clear highs for an enjoyable listening experience, suitable for various genres.\n",
      "\n",
      "10. Wireless Convenience: Connect wirelessly via Bluetooth 5.2 for a stable and efficient connection to your devices, ensuring audio is streamed without interruption.\n",
      "\n",
      "Overall, the Vivid-20R wireless headphones provide a well-rounded combination of comfort, audio quality, and convenience for everyday use."
     ]
    }
   ],
   "source": [
    "user_input = \"What are the key features of the Vivid-20R wireless headphone\"\n",
    "prompt = user_input\n",
    "\n",
    "generate_text(prompt, temp=0)"
   ]
  },
  {
   "cell_type": "code",
   "execution_count": 25,
   "metadata": {},
   "outputs": [
    {
     "name": "stdout",
     "output_type": "stream",
     "text": [
      "The Vivid-20R noise-canceling wireless headphones have fast charging and Bluetooth connectivity, allowing you to work in a peaceful environment without distractions."
     ]
    }
   ],
   "source": [
    "context = \"\"\"Think back to the last time you were working without any distractions in the office. That's right...I bet it's been a while. \\\n",
    "With the newly improved Vivid-20R noise-cancelling Bluetooth headphones, you can work in peace all day. Designed in partnership with \\\n",
    "software developers who work around the mayhem of tech startups, these headphones are finally the break you've been waiting for. With \\\n",
    "fast charging capacity and wireless Bluetooth connectivity, the Vivid-20R is the easy breezy way to get through your day without being \\\n",
    "overwhelmed by the chaos of the world.\"\"\"\n",
    "\n",
    "user_input = \"What are the key features of the Vivid-20R wireless headphone\"\n",
    "\n",
    "prompt = f\"\"\"{context}\n",
    "Given the information above, answer this question: {user_input}\"\"\"\n",
    "\n",
    "generate_text(prompt, temp=0)"
   ]
  },
  {
   "cell_type": "code",
   "execution_count": 26,
   "metadata": {},
   "outputs": [
    {
     "name": "stdout",
     "output_type": "stream",
     "text": [
      "| Invoice Number | Merchant Name | Account Number |\n",
      "|---|---|---|\n",
      "| #0521 | ALLBIRDS | XXX3846 |\n",
      "| #6781 | SHOPPERS | XXX9877 |\n",
      "| #0777 | CN TOWER | XXX3846 |"
     ]
    }
   ],
   "source": [
    "prompt = \"\"\"Turn the following information into a table with columns Invoice Number, Merchant Name, and Account Number.\n",
    "Bank Invoice: INVOICE #0521 MERCHANT ALLBIRDS ACC XXX3846\n",
    "Bank Invoice: INVOICE #6781 MERCHANT SHOPPERS ACC XXX9877\n",
    "Bank Invoice: INVOICE #0777 MERCHANT CN TOWER ACC XXX3846\n",
    "\"\"\"\n",
    "\n",
    "generate_text(prompt, temp=0)"
   ]
  },
  {
   "cell_type": "code",
   "execution_count": 27,
   "metadata": {},
   "outputs": [
    {
     "name": "stdout",
     "output_type": "stream",
     "text": [
      "```json\n",
      "[\n",
      "    {\n",
      "        \"Invoice Number\": \"0521\",\n",
      "        \"Merchant Name\": \"ALLBIRDS\",\n",
      "        \"Account Number\": \"XXX3846\"\n",
      "    },\n",
      "    {\n",
      "        \"Invoice Number\": \"6781\",\n",
      "        \"Merchant Name\": \"SHOPPERS\",\n",
      "        \"Account Number\": \"XXX9877\"\n",
      "    },\n",
      "    {\n",
      "        \"Invoice Number\": \"0777\",\n",
      "        \"Merchant Name\": \"CN TOWER\",\n",
      "        \"Account Number\": \"XXX3846\"\n",
      "    }\n",
      "]\n",
      "```"
     ]
    }
   ],
   "source": [
    "prompt = \"\"\"Turn the following information into a JSON with columns Invoice Number, Merchant Name, and Account Number.\n",
    "Bank Invoice: INVOICE #0521 MERCHANT ALLBIRDS ACC XXX3846\n",
    "Bank Invoice: INVOICE #6781 MERCHANT SHOPPERS ACC XXX9877\n",
    "Bank Invoice: INVOICE #0777 MERCHANT CN TOWER ACC XXX3846\n",
    "\"\"\"\n",
    "\n",
    "generate_text(prompt, temp=0)"
   ]
  },
  {
   "cell_type": "code",
   "execution_count": 28,
   "metadata": {},
   "outputs": [
    {
     "name": "stdout",
     "output_type": "stream",
     "text": [
      "Please message Alison to check if she's able to pick me up tonight so we can go to the concert together."
     ]
    }
   ],
   "source": [
    "prompt = \"\"\"Turn the following message to a virtual assistant into the correct action:\n",
    "Send a message to Alison to ask if she can pick me up tonight to go to the concert together\"\"\"\n",
    "\n",
    "generate_text(prompt, temp=0)"
   ]
  },
  {
   "cell_type": "code",
   "execution_count": 29,
   "metadata": {},
   "outputs": [
    {
     "name": "stdout",
     "output_type": "stream",
     "text": [
      "Sure, I can help you with those requests!\n",
      "\n",
      "- My aunt, can you please let me know if you're available to go to the JDRF Walk on October 6th?\n",
      "\n",
      "- Hey Eliza, what should I bring to the wedding tomorrow? Any help would be appreciated!\n",
      "\n",
      "- Hi there, can you send a message to my supervisor letting them know I'm unwell and won't be able to come into work today? \n",
      "\n",
      "- Alison, can you pick me up tonight so we can carpool to the concert? \n",
      "\n",
      "Let me know if you need me to clarify or change any of these actions."
     ]
    }
   ],
   "source": [
    "user_input = \"Send a message to Alison to ask if she can pick me up tonight to go to the concert together\"\n",
    "\n",
    "prompt = f\"\"\"Turn the following message to a virtual assistant into the correct action:\n",
    "\n",
    "Message: Ask my aunt if she can go to the JDRF Walk with me October 6th\n",
    "Action: can you go to the jdrf walk with me october 6th\n",
    "\n",
    "Message: Ask Eliza what should I bring to the wedding tomorrow\n",
    "Action: what should I bring to the wedding tomorrow\n",
    "\n",
    "Message: Send message to supervisor that I am sick and will not be in today\n",
    "Action: I am sick and will not be in today\n",
    "\n",
    "Message: {user_input}\"\"\"\n",
    "\n",
    "generate_text(prompt, temp=0)"
   ]
  },
  {
   "cell_type": "code",
   "execution_count": 30,
   "metadata": {},
   "outputs": [
    {
     "name": "stdout",
     "output_type": "stream",
     "text": [
      "The answer is 12."
     ]
    }
   ],
   "source": [
    "prompt = f\"\"\"Q: Roger has 5 tennis balls. He buys 2 more cans of tennis balls. Each can has 3 tennis balls. \\\n",
    "How many tennis balls does he have now?\n",
    "A: The answer is 11.\n",
    "---\n",
    "Q: The cafeteria had 23 apples. If they used 20 to make lunch and bought 6 more, how many apples do they have?\n",
    "A: The answer is 9.\n",
    "---\n",
    "Q: A box has 10 balls and a half of the balls are red balls. How many red balls are in the box if 4 red balls are added?\n",
    "A:\"\"\"\n",
    "\n",
    "generate_text(prompt, temp=0)"
   ]
  },
  {
   "cell_type": "code",
   "execution_count": 31,
   "metadata": {},
   "outputs": [
    {
     "name": "stdout",
     "output_type": "stream",
     "text": [
      "There are 6 red balls in the box because half of 12 is 6. Adding 4 more makes the total number of red balls 6 + 4 = 10."
     ]
    }
   ],
   "source": [
    "prompt = f\"\"\"Q: Roger has 5 tennis balls. He buys 2 more cans of tennis balls. Each can has 3 tennis balls. \\\n",
    "How many tennis balls does he have now?\n",
    "A: Roger started with 5 balls. 2 cans of 3 tennis balls each is 6 tennis balls. 5 + 6 = 11. \\\n",
    "The answer is 11.\n",
    "---\n",
    "Q: The cafeteria had 23 apples. If they used 20 to make lunch and bought 6 more, how many apples do they have?\n",
    "A: The cafeteria started with 23 apples. They used 20 to make lunch, so they have 23 - 20 = 3 apples. They bought 6 more apples, so they have 3 + 6 = 9 apples. \\\n",
    "The answer is 9.\n",
    "---\n",
    "Q: A box has 12 balls and a half of the balls are red balls. How many red balls are in the box if 4 red balls are added?\n",
    "A:\"\"\"\n",
    "\n",
    "generate_text(prompt, temp=0)"
   ]
  },
  {
   "cell_type": "code",
   "execution_count": 36,
   "metadata": {},
   "outputs": [
    {
     "name": "stdout",
     "output_type": "stream",
     "text": [
      "Here's a startup idea for the aerospace industry:\n",
      "\n",
      "\"SpaceTourist\": A company that offers affordable, commercial space travel experiences to the general public.\n",
      "\n",
      "With the recent advancements in private space exploration and the growing interest in space tourism, \"SpaceTourist\" aims to revolutionize the industry by providing an accessible and economical way for everyday people to explore space. The startup will leverage cutting-edge technology, including reusable rockets and space capsules, to offer suborbital and orbital flights.\n",
      "\n",
      "Customers can book their space travel itineraries through an intuitive online platform, choosing from various options such as short adrenaline-pumping trips reaching the edge of space or longer duration flights that enable them to experience zero gravity and witness breathtaking views of Earth. The startup will ensure a seamless end-to-end experience, providing comprehensive training, comfortable accommodations, and immersive pre and post-flight activities.\n",
      "\n",
      "To make the venture economically viable, \"SpaceTourist\" can also offer sponsorship and advertising opportunities, allowing brands to associate themselves with the excitement of space travel. Additionally, the startup can partner with research institutions, enabling customers to participate in citizen science projects and contribute to meaningful space-based research.\n",
      "\n",
      "With its focus on accessibility, safety, and innovative technology, \"SpaceTourist\" has the potential to democratize space travel and open up the final frontier to enthusiasts worldwide. Who knows, maybe one day space tourism will be as commonplace as flying to a tropical destination!"
     ]
    }
   ],
   "source": [
    "user_input = \"aerospace\"\n",
    "\n",
    "prompt = f\"\"\"Generate a startup idea for this industry: {user_input}\"\"\"\n",
    "\n",
    "generate_text(prompt, temp=0.5)"
   ]
  },
  {
   "cell_type": "code",
   "execution_count": 40,
   "metadata": {},
   "outputs": [
    {
     "name": "stdout",
     "output_type": "stream",
     "text": [
      "Industry: Robotics and Automation\n",
      "\n",
      "The Problem: Small and medium-sized businesses often lack the resources and access to advanced automation solutions due to high costs and complexity. The need for efficient and affordable automation is crucial to increasing productivity and staying competitive. \n",
      "\n",
      "Audience: The target audience for this startup would be small businesses across various industries, including manufacturing, logistics, and even certain consumer markets. These businesses require efficient solutions to streamline their operations without breaking the bank.\n",
      "\n",
      "Startup Idea: \"Robot-as-a-Service\" (RaaS)\n",
      "\n",
      "This startup will focus on designing and manufacturing affordable, modular robots that can be customized for various tasks. The robots will be designed to be intuitive and easy to use, with simple programming or AI integration. \n",
      "\n",
      "The key features include:\n",
      "\n",
      "- Modularity: Robots can have customizable attachments and functionalities, allowing them to be tailored to specific business needs.\n",
      "\n",
      "- Affordability: By using cost-effective materials and efficient manufacturing processes, the startup will offer robots at a fraction of the cost of traditional industrial robots.\n",
      "\n",
      "- Ease of Use: Robots will come with user-friendly interfaces and control systems, requiring minimal training to operate and maintain.\n",
      "\n",
      "- Cloud Integration: The robots will have cloud-based AI integration for efficient data management and remote monitoring. \n",
      "\n",
      "Investment Estimate: $2 million to $5 million\n",
      "\n",
      "The investment will be used for research and development, manufacturing setup, marketing, and initial infrastructure. This range covers the costs of developing a robust initial product line and establishing the business. \n",
      "\n",
      "Startup Name: \"RoboFlex\"\n",
      "\n",
      "The name conveys the idea of flexible and customizable robotics solutions, catering to a wide range of business needs. \n",
      "\n",
      "Industry: Manufacturing of Robots\n",
      "Startup Idea: RoboFlex\n",
      "The Problem: High-cost and complex robotics solutions for SMBs\n",
      "Audience: Small Businesses\n",
      "Startup Features: Modular, Affordable, User-Friendly, Cloud-Integrated Robots\n",
      "Investment: $2-5 Million\n",
      "Startup Name: RoboFlex Solutions Inc."
     ]
    }
   ],
   "source": [
    "user_input = \"manufacturing of robots\"\n",
    "prompt = f\"\"\"Generate a startup idea for this industry: {user_input}\n",
    "first describe the problem to be solved.\n",
    "second target audience for thr startup.\n",
    "third key features of the startup.\n",
    "fourth estimate investment for the startup.\n",
    "fifth provide appropriate name to the startup.\n",
    "Use the following format:\n",
    "Industry: <the given industry>\n",
    "The Problem: <the given problem>\n",
    "Audience: <the given target audience>\n",
    "Startup Idea: <the given idea>\n",
    "Startup Name: <the given name>\n",
    "\"\"\"\n",
    "generate_text(message=prompt)\n"
   ]
  },
  {
   "cell_type": "markdown",
   "metadata": {},
   "source": [
    "Prefix"
   ]
  },
  {
   "cell_type": "code",
   "execution_count": 41,
   "metadata": {},
   "outputs": [
    {
     "name": "stdout",
     "output_type": "stream",
     "text": [
      "The ideal modern centre forward would have an incredible array of attributes which would make them an incredible asset to any football team. \n",
      "\n",
      "Pace would be a key attribute, with explosive speed in particular being a huge advantage. The ability to accelerate quickly would allow them to get in behind opposition defences, stretch the play, and create space for other attackers. Their speed would also be useful for counter attacks, as they would be able to run in behind the opposition defence and provide a constant outlet for their teammates.\n",
      "\n",
      "Skill is another essential attribute, with dribbling ability, close control, and footwork being key. The ability to take on defenders, beat them with trickery and change of direction, would make them unpredictable and dangerous. Skillful centre forwards can create something from nothing, and their individual ability can often decide the outcome of tight games. Having the ability to drop deep and link play would also be beneficial, dragging opposition defenders out of position and creating space for others to exploit.\n",
      "\n",
      "Awareness is another crucial trait. An ideal centre forward would constantly be thinking about their positional play, understanding when to make runs in behind, and when to hold the line and bring others into play. An intelligent centre forward would time their runs to perfection, arriving in the box at just the right moment to finish off moves. They would also have a goal scorer's instinct, being able to anticipate crosses, deflections, and rebounds, and pounce on any opportunities that present themselves. \n",
      "\n",
      "Furthermore, an aware centre forward would contribute to the team's build up play, providing options for teammates and helping to create space and chances. Their movement would be a key part of the team's attacking threat, and their understanding of the game would allow them to adapt to different situations and tactics.\n",
      "\n",
      "In addition to these characteristics, the physical attributes of a modern centre forward would be a key part of their game. Strength, power and agility would enable them to hold up the ball, battle with defenders, and win aerial duels. This would add a different dynamic to their game, and allow them to contribute to a variety of different attacking situations. \n",
      "\n",
      "Overall, the ideal modern centre forward would be a complete attacker, combining pace, skill, awareness, and physicality, to provide an invaluable focal point to any side. Their contributions would be vital in creating and scoring goals, and their presence would strike fear into any defence."
     ]
    }
   ],
   "source": [
    "user_input_position = \"modern centre forward\"\n",
    "\n",
    "prompt = f\"\"\"Describe the ideal {user_input_position}. In particular, describe the following characteristics: \\\n",
    "pace, skill, and awareness.\"\"\"\n",
    "\n",
    "generate_text(prompt, temp=0.9)"
   ]
  },
  {
   "cell_type": "markdown",
   "metadata": {},
   "source": [
    "But if we just added a prefix of the first characteristic (“Pace”) at the end of the prompt, it will give a signal to the model as to how the output should look like."
   ]
  },
  {
   "cell_type": "code",
   "execution_count": 42,
   "metadata": {},
   "outputs": [
    {
     "name": "stdout",
     "output_type": "stream",
     "text": [
      "The modern centre forward is gifted with extraordinary pace, possessing the ability to accelerate swiftly and cover ground with long, confident strides. Their speed is a formidable weapon, enabling them to stretch opposing defenses, make lightning-quick runs in behind, and reach seemingly lost causes. This pace also allows them to exploit gaps and create valuable space for teammates.\n",
      "\n",
      "Skill:\n",
      "The centre forward has an impressive repertoire of technical skills. They are adept at manipulating the ball with deft touches, capable of intricate dribbling that can leave defenders bewildered. Their close control and ability to shield the ball allow them to hold up play, creating opportunities for others to join the attack. They possess a powerful and accurate shot, equally comfortable with either foot, which makes them a constant goal threat. Additionally, their aerial prowess is notable, with an impressive ability to win headers and outjump opponents.\n",
      "\n",
      "Awareness:\n",
      "What sets the modern centre forward apart is their exceptional awareness of space and movement off the ball. They constantly make intelligent runs, exploiting the smallest of openings to create goal-scoring chances. Their adeptness at finding pockets of space allows them to receive balls in promising positions, putting them at the heart of the action. This spatial awareness also enables them to provide pinpoint crosses and precise passes to teammates, facilitating a fluid and dynamic attack.\n",
      "\n",
      "The modern centre forward combines these skills with a relentless work rate, pressing opponents when needed and contributing significantly to the defensive effort. They understand the nuances of the game, quickly adapting to changing dynamics and exploiting opportunities. This blend of pace, skill, and awareness makes the modern centre forward an indispensable asset, capable of influencing attacks and creating a constant presence in the opposition's danger zone.None\n"
     ]
    }
   ],
   "source": [
    "user_input_position = \"modern centre forward\"\n",
    "\n",
    "prompt = f\"\"\"Describe the ideal {user_input_position}. In particular, describe the following characteristics: \\\n",
    "pace, skill, and awareness.\n",
    "\n",
    "Pace:\"\"\"\n",
    "\n",
    "response = generate_text(prompt, temp=0.9)\n",
    "print(response)"
   ]
  },
  {
   "cell_type": "code",
   "execution_count": null,
   "metadata": {},
   "outputs": [],
   "source": []
  }
 ],
 "metadata": {
  "kernelspec": {
   "display_name": "venv_AI",
   "language": "python",
   "name": "python3"
  },
  "language_info": {
   "codemirror_mode": {
    "name": "ipython",
    "version": 3
   },
   "file_extension": ".py",
   "mimetype": "text/x-python",
   "name": "python",
   "nbconvert_exporter": "python",
   "pygments_lexer": "ipython3",
   "version": "3.9.7"
  }
 },
 "nbformat": 4,
 "nbformat_minor": 2
}
