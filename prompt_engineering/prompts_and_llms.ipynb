{
 "cells": [
  {
   "cell_type": "code",
   "execution_count": 1,
   "metadata": {},
   "outputs": [],
   "source": [
    "import cohere\n",
    "import os\n",
    "cohere_obj = cohere.Client(api_key=os.getenv(\"COHERE_API_KEY\"))"
   ]
  },
  {
   "cell_type": "code",
   "execution_count": 3,
   "metadata": {},
   "outputs": [],
   "source": [
    "message = \"\"\"\n",
    "## Instructions\n",
    "Summarize the text below.\n",
    "\n",
    "## Input Text\n",
    "{input_text}\n",
    "\"\"\""
   ]
  },
  {
   "cell_type": "code",
   "execution_count": 4,
   "metadata": {},
   "outputs": [],
   "source": [
    "response = cohere_obj.chat(\n",
    "    model=\"command-r\",\n",
    "    message=message,\n",
    "    temperature=0.3\n",
    ")"
   ]
  },
  {
   "cell_type": "code",
   "execution_count": 5,
   "metadata": {},
   "outputs": [
    {
     "name": "stdout",
     "output_type": "stream",
     "text": [
      "text='The text discusses the concept of work-life balance and its importance in maintaining overall health and well-being. It highlights the negative effects of workaholism, including physical and mental health issues, strained personal relationships, and a general lack of fulfillment outside of work. The article also touches on the potential cultural differences in perceptions of work-life balance and the need for individuals to prioritize their own well-being. It suggests setting boundaries, practicing self-care, and seeking out fulfilling activities outside of work to achieve a healthier balance.' generation_id='d5ffe873-7f01-4f03-b175-e3e1c6e8684f' citations=None documents=None is_search_required=None search_queries=None search_results=None finish_reason='COMPLETE' tool_calls=None chat_history=[Message_User(message='\\n## Instructions\\nSummarize the text below.\\n\\n## Input Text\\n{input_text}\\n', tool_calls=None, role='USER'), Message_Chatbot(message='The text discusses the concept of work-life balance and its importance in maintaining overall health and well-being. It highlights the negative effects of workaholism, including physical and mental health issues, strained personal relationships, and a general lack of fulfillment outside of work. The article also touches on the potential cultural differences in perceptions of work-life balance and the need for individuals to prioritize their own well-being. It suggests setting boundaries, practicing self-care, and seeking out fulfilling activities outside of work to achieve a healthier balance.', tool_calls=None, role='CHATBOT')] prompt=None meta=ApiMeta(api_version=ApiMetaApiVersion(version='1', is_deprecated=None, is_experimental=None), billed_units=ApiMetaBilledUnits(input_tokens=22, output_tokens=107, search_units=None, classifications=None), tokens=ApiMetaTokens(input_tokens=86, output_tokens=107), warnings=None) response_id='6e64207e-d8bf-40a8-a8c4-94ca44098d80'\n"
     ]
    }
   ],
   "source": [
    "print(response)"
   ]
  },
  {
   "cell_type": "code",
   "execution_count": 14,
   "metadata": {},
   "outputs": [],
   "source": [
    "def generate_text(message):\n",
    "    stream = cohere_obj.chat_stream(message=message, model=\"command-r-plus\")\n",
    "    for event in stream:\n",
    "        if event.event_type == \"text-generation\":\n",
    "            print(event.text, end='')"
   ]
  },
  {
   "cell_type": "code",
   "execution_count": 16,
   "metadata": {},
   "outputs": [
    {
     "name": "stdout",
     "output_type": "stream",
     "text": [
      "\"Experience unmatched sound quality and freedom with our Wireless Earbuds. Immerse yourself in your favorite tunes or take calls with crystal-clear audio. These sleek and ergonomic earbuds offer a secure fit and easy touch controls for a seamless listening experience. Enjoy uninterrupted music and calls with a long-lasting battery life and a compact charging case for on-the-go convenience.\""
     ]
    }
   ],
   "source": [
    "generate_text(\n",
    "    \"Generate a concise product description for the product: wireless earbuds.\")"
   ]
  },
  {
   "cell_type": "code",
   "execution_count": 17,
   "metadata": {},
   "outputs": [
    {
     "name": "stdout",
     "output_type": "stream",
     "text": [
      "Here is a concise product description for wireless earbuds in the format you provided:\n",
      "\n",
      "**Hook:** Introducing the latest innovation in wireless audio - our cutting-edge Wireless Earbuds.\n",
      "\n",
      "**Solution:** These earbuds offer a seamless, cord-free experience, providing unmatched convenience and freedom of movement.\n",
      "\n",
      "**Features and Benefits:**\n",
      "- Immersive Audio: Experience crystal-clear sound with powerful bass and crisp highs, ensuring an immersive listening experience.\n",
      "- Long-Lasting Battery: Enjoy uninterrupted music and calls with a single charge, offering up to 6 hours of playback, and an additional 24 hours with the charging case.\n",
      "- Secure Fit: Designed for comfort and stability, these earbuds come with multiple ear tip options for a customized, secure fit, perfect for any activity.\n",
      "- Easy Controls: Intuitive touch controls let you effortlessly manage your music and calls with a simple tap, without reaching for your device.\n",
      "\n",
      "**Call to Action:** Upgrade your audio game with our Wireless Earbuds and experience the freedom and convenience of true wireless listening. Add them to your cart now and enjoy your favorite tunes like never before!"
     ]
    }
   ],
   "source": [
    "generate_text(\"\"\"\n",
    "    Generate a concise product description for the product: wireless earbuds. \n",
    "    Use the following format: Hook, Solution, Features and Benefits, Call to Action.\n",
    "    \"\"\")"
   ]
  },
  {
   "cell_type": "code",
   "execution_count": 18,
   "metadata": {},
   "outputs": [
    {
     "name": "stdout",
     "output_type": "stream",
     "text": [
      "The email expresses gratitude to the team members for their hard work, dedication, and invaluable support in organizing a successful community meetup, and looks forward to future collaborations."
     ]
    }
   ],
   "source": [
    "generate_text(\"\"\"\n",
    "    Summarize this email in one sentence.\n",
    "    Dear [Team Members],\n",
    "    I am writing to thank you for your hard work and dedication in organizing our recent community meetup. The event was a great success and it would not have been possible without your efforts.\n",
    "    I am especially grateful for the time and energy you have invested in making this event a reality. Your commitment to ensuring that everything ran smoothly and that our guests had a great time is greatly appreciated.\n",
    "    I am also thankful for the support and guidance you have provided to me throughout the planning process. Your insights and ideas have been invaluable in ensuring that the event was a success.\n",
    "    I am confident that our community will benefit greatly from this event and I am excited to see the positive impact it will have.\n",
    "    Thank you again for your hard work and dedication. I am looking forward to working with you on future events.\n",
    "    Sincerely,\n",
    "    [Your Name]\n",
    "    \"\"\")"
   ]
  },
  {
   "cell_type": "code",
   "execution_count": 2,
   "metadata": {},
   "outputs": [],
   "source": []
  }
 ],
 "metadata": {
  "kernelspec": {
   "display_name": "venv_AI",
   "language": "python",
   "name": "python3"
  },
  "language_info": {
   "codemirror_mode": {
    "name": "ipython",
    "version": 3
   },
   "file_extension": ".py",
   "mimetype": "text/x-python",
   "name": "python",
   "nbconvert_exporter": "python",
   "pygments_lexer": "ipython3",
   "version": "3.9.7"
  }
 },
 "nbformat": 4,
 "nbformat_minor": 2
}
