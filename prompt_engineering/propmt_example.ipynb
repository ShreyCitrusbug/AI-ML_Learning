{
 "cells": [
  {
   "cell_type": "code",
   "execution_count": 1,
   "metadata": {},
   "outputs": [],
   "source": [
    "import os\n",
    "import cohere\n",
    "co = cohere.Client(api_key=os.getenv(\"COHERE_API_KEY\"))"
   ]
  },
  {
   "cell_type": "code",
   "execution_count": 2,
   "metadata": {},
   "outputs": [],
   "source": [
    "# Sections from the original news article\n",
    "documents = [\n",
    "    {\"title\": \"background\", \"snippet\": \"From the beginning of the IIHF Ice Hockey World Championships in 1920, Canada would send a ...\"},\n",
    "    {\"title\": \"expectations\", \"snippet\": \"At the time, the National Hockey League was considered to be where the best hockey players ...\"},\n",
    "    {\"title\": \"legacy\", \"snippet\": \"While Canada won the series, the Soviets earned the respect of fans and players alike. The Canadians ...\"},\n",
    "]\n",
    "\n",
    "# New request\n",
    "query = '''The 1972 Canada–USSR Summit Series was an eight-game ice hockey series between the Soviet Union and Canada, held in September 1972. Please summarize the salient points of the included documents and do so in a flowing high natural language quality text. Use bullet points where appropriate.'''\n",
    "\n",
    "# Call the model\n",
    "response = co.chat(\n",
    "    message=query,\n",
    "    documents=documents,\n",
    "    temperature=0.3\n",
    ")"
   ]
  },
  {
   "cell_type": "code",
   "execution_count": 3,
   "metadata": {},
   "outputs": [
    {
     "name": "stdout",
     "output_type": "stream",
     "text": [
      "The 1972 Canada–USSR Summit Series was an eight-game ice hockey series between Canada and the Soviet Union. Here are the salient points from the included documents:\n",
      "\n",
      "- The series took place in September 1972 and was an eight-game series.\n",
      "- Canada won the series, but the Soviet team earned the respect of fans and players.\n",
      "- The National Hockey League was considered the pinnacle of hockey at the time, with the best players in the world.\n",
      "- Canada had a long history of participation in international ice hockey competitions, including the IIHF Ice Hockey World Championships, which they first joined in 1920.\n"
     ]
    }
   ],
   "source": [
    "print(response.text)"
   ]
  },
  {
   "cell_type": "code",
   "execution_count": 4,
   "metadata": {},
   "outputs": [
    {
     "name": "stdout",
     "output_type": "stream",
     "text": [
      "[ChatCitation(start=179, end=207, text='took place in September 1972', document_ids=['doc_0']), ChatCitation(start=219, end=237, text='eight-game series.', document_ids=['doc_0']), ChatCitation(start=240, end=261, text='Canada won the series', document_ids=['doc_2']), ChatCitation(start=271, end=322, text='Soviet team earned the respect of fans and players.', document_ids=['doc_2']), ChatCitation(start=325, end=389, text='The National Hockey League was considered the pinnacle of hockey', document_ids=['doc_1']), ChatCitation(start=412, end=438, text='best players in the world.', document_ids=['doc_1']), ChatCitation(start=454, end=524, text='long history of participation in international ice hockey competitions', document_ids=['doc_0']), ChatCitation(start=540, end=609, text='IIHF Ice Hockey World Championships, which they first joined in 1920.', document_ids=['doc_0'])]\n"
     ]
    }
   ],
   "source": [
    "print(response.citations)"
   ]
  },
  {
   "cell_type": "code",
   "execution_count": 10,
   "metadata": {},
   "outputs": [
    {
     "name": "stdout",
     "output_type": "stream",
     "text": [
      "start=179 end=207 text='took place in September 1972' document_ids=['doc_0']\n",
      "start=219 end=237 text='eight-game series.' document_ids=['doc_0']\n",
      "start=240 end=261 text='Canada won the series' document_ids=['doc_2']\n",
      "start=271 end=322 text='Soviet team earned the respect of fans and players.' document_ids=['doc_2']\n",
      "start=325 end=389 text='The National Hockey League was considered the pinnacle of hockey' document_ids=['doc_1']\n",
      "start=412 end=438 text='best players in the world.' document_ids=['doc_1']\n",
      "start=454 end=524 text='long history of participation in international ice hockey competitions' document_ids=['doc_0']\n",
      "start=540 end=609 text='IIHF Ice Hockey World Championships, which they first joined in 1920.' document_ids=['doc_0']\n"
     ]
    }
   ],
   "source": [
    "for i in response.citations:\n",
    "    print(i)"
   ]
  },
  {
   "cell_type": "code",
   "execution_count": 11,
   "metadata": {},
   "outputs": [
    {
     "name": "stdout",
     "output_type": "stream",
     "text": [
      "No, there is no hearsay. Hearsay refers to secondhand or indirect evidence, such as when a witness testifies about something they have been told by someone else, rather than something they have personally observed or experienced. \n",
      "\n",
      "In this scenario, Angela's testimony is based on her direct observation of Albert's gesture of giving a \"thumbs up\" when asked about his well-being. This is considered firsthand evidence, as Angela witnessed the event herself and is relating her personal experience. \n",
      "\n",
      "The testimony is a form of non-verbal communication, and the court would likely admit it as evidence since it's a direct indication of Albert's state of being and his potential opinion on the matter. However, the court might also want to verify the context and ensure that the gesture was indeed an indication of Albert's feelings of well-being, especially considering the potential consequences of the accident.\n"
     ]
    }
   ],
   "source": [
    "example = '''On the issue of Albert's wellbeing after the accident, Angela testified that he\n",
    "gave a thumbs up when asked how he was feeling.'''\n",
    "message = f'''{example} Is there hearsay?'''\n",
    "\n",
    "response = co.chat(\n",
    "    message=message,\n",
    "    model='command-r',\n",
    "    temperature=0.3,\n",
    ")\n",
    "\n",
    "print(response.text)"
   ]
  },
  {
   "cell_type": "code",
   "execution_count": null,
   "metadata": {},
   "outputs": [],
   "source": [
    "user_input = \"a wireless headphone product named the CO-1T\"\n",
    "prompt = f\"\"\"Write a creative product description for {user_input}\"\"\"\n",
    "gene"
   ]
  }
 ],
 "metadata": {
  "kernelspec": {
   "display_name": "venv_AI",
   "language": "python",
   "name": "python3"
  },
  "language_info": {
   "codemirror_mode": {
    "name": "ipython",
    "version": 3
   },
   "file_extension": ".py",
   "mimetype": "text/x-python",
   "name": "python",
   "nbconvert_exporter": "python",
   "pygments_lexer": "ipython3",
   "version": "3.9.7"
  }
 },
 "nbformat": 4,
 "nbformat_minor": 2
}
