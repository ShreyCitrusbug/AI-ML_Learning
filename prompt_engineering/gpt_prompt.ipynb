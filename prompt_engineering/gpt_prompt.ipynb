{
 "cells": [
  {
   "cell_type": "code",
   "execution_count": 1,
   "metadata": {},
   "outputs": [],
   "source": [
    "import os\n",
    "import openai\n",
    "import pandas as pd"
   ]
  },
  {
   "cell_type": "code",
   "execution_count": 2,
   "metadata": {},
   "outputs": [],
   "source": [
    "openai.api_key = os.getenv(\"OPEN_API_KEY\")"
   ]
  },
  {
   "cell_type": "code",
   "execution_count": 3,
   "metadata": {},
   "outputs": [],
   "source": [
    "completion = openai.chat.completions.create(\n",
    "    model=\"gpt-3.5-turbo\",\n",
    "    messages=[\n",
    "        {\n",
    "            \"role\": \"system\",\n",
    "            \"content\": \"You are a poetic assistant, skilled in explaining complex programming concepts with creative flair.\",\n",
    "        },\n",
    "        {\n",
    "            \"role\": \"user\",\n",
    "            \"content\": \"Compose a poem that explains the concept of recursion in programming.\",\n",
    "        },\n",
    "    ],\n",
    ")"
   ]
  },
  {
   "cell_type": "code",
   "execution_count": 4,
   "metadata": {},
   "outputs": [
    {
     "data": {
      "text/plain": [
       "ChatCompletionMessage(content=\"In the land of code and syntax bright,\\nLies a technique with recursive might,\\nA function that calls itself, so bold,\\nUnraveling mysteries, untold.\\n\\nLike a mirror reflecting endlessly,\\nRecursion dives deep, sets minds free,\\nBreaking problems into parts, so fine,\\nUntil they're simple, like a nursery rhyme.\\n\\nEach recursive call a journey new,\\nA path traversed by a code savvy crew,\\nUntil the base case, like a beacon, gleams,\\nEnding the cycle, fulfilling dreams.\\n\\nSo embrace recursion, with artful grace,\\nA concept weaving in a coder's embrace,\\nUnraveling loops with a magical twist,\\nIn the enchanted realm where bugs exist.\", role='assistant', function_call=None, tool_calls=None)"
      ]
     },
     "execution_count": 4,
     "metadata": {},
     "output_type": "execute_result"
    }
   ],
   "source": [
    "completion.choices[0].message"
   ]
  },
  {
   "cell_type": "code",
   "execution_count": 5,
   "metadata": {},
   "outputs": [],
   "source": [
    "new_completion = openai.chat.completions.create(\n",
    "    model=\"gpt-3.5-turbo\",\n",
    "    messages=[\n",
    "        {\"role\": \"system\", \"content\": \"Say as little as possible\"},\n",
    "        {\n",
    "            \"role\": \"user\",\n",
    "            \"content\": \"Compose a poem that explains the concept of recursion in programming.\",\n",
    "        },\n",
    "    ],\n",
    ")"
   ]
  },
  {
   "cell_type": "code",
   "execution_count": 6,
   "metadata": {},
   "outputs": [
    {
     "data": {
      "text/plain": [
       "ChatCompletionMessage(content=\"In code we find, a loop defined,  \\nA function calls itself in kind.  \\nA puzzle solved, a loop revolves,  \\nRecursion in the pattern evolves.  \\nA dance unseen, a memory keen,  \\nInfinite loops, a programmer's dream.  \\nRecursion sings, a melody rings,  \\nIn programming, magic it brings.\", role='assistant', function_call=None, tool_calls=None)"
      ]
     },
     "execution_count": 6,
     "metadata": {},
     "output_type": "execute_result"
    }
   ],
   "source": [
    "new_completion.choices[0].message"
   ]
  },
  {
   "cell_type": "code",
   "execution_count": 7,
   "metadata": {},
   "outputs": [],
   "source": [
    "df = pd.read_csv(\"CSCO_data.csv\")"
   ]
  },
  {
   "cell_type": "code",
   "execution_count": 8,
   "metadata": {},
   "outputs": [
    {
     "data": {
      "text/html": [
       "<div>\n",
       "<style scoped>\n",
       "    .dataframe tbody tr th:only-of-type {\n",
       "        vertical-align: middle;\n",
       "    }\n",
       "\n",
       "    .dataframe tbody tr th {\n",
       "        vertical-align: top;\n",
       "    }\n",
       "\n",
       "    .dataframe thead th {\n",
       "        text-align: right;\n",
       "    }\n",
       "</style>\n",
       "<table border=\"1\" class=\"dataframe\">\n",
       "  <thead>\n",
       "    <tr style=\"text-align: right;\">\n",
       "      <th></th>\n",
       "      <th>date</th>\n",
       "      <th>open</th>\n",
       "      <th>high</th>\n",
       "      <th>low</th>\n",
       "      <th>close</th>\n",
       "      <th>volume</th>\n",
       "      <th>Name</th>\n",
       "    </tr>\n",
       "  </thead>\n",
       "  <tbody>\n",
       "    <tr>\n",
       "      <th>0</th>\n",
       "      <td>2013-02-08</td>\n",
       "      <td>21.1699</td>\n",
       "      <td>21.30</td>\n",
       "      <td>21.130</td>\n",
       "      <td>21.16</td>\n",
       "      <td>23056853</td>\n",
       "      <td>CSCO</td>\n",
       "    </tr>\n",
       "    <tr>\n",
       "      <th>1</th>\n",
       "      <td>2013-02-11</td>\n",
       "      <td>21.2400</td>\n",
       "      <td>21.34</td>\n",
       "      <td>21.150</td>\n",
       "      <td>21.27</td>\n",
       "      <td>33551332</td>\n",
       "      <td>CSCO</td>\n",
       "    </tr>\n",
       "    <tr>\n",
       "      <th>2</th>\n",
       "      <td>2013-02-12</td>\n",
       "      <td>21.2500</td>\n",
       "      <td>21.27</td>\n",
       "      <td>20.940</td>\n",
       "      <td>20.97</td>\n",
       "      <td>46456472</td>\n",
       "      <td>CSCO</td>\n",
       "    </tr>\n",
       "    <tr>\n",
       "      <th>3</th>\n",
       "      <td>2013-02-13</td>\n",
       "      <td>21.0000</td>\n",
       "      <td>21.14</td>\n",
       "      <td>20.930</td>\n",
       "      <td>21.14</td>\n",
       "      <td>63085496</td>\n",
       "      <td>CSCO</td>\n",
       "    </tr>\n",
       "    <tr>\n",
       "      <th>4</th>\n",
       "      <td>2013-02-14</td>\n",
       "      <td>20.8800</td>\n",
       "      <td>21.00</td>\n",
       "      <td>20.510</td>\n",
       "      <td>20.99</td>\n",
       "      <td>67158759</td>\n",
       "      <td>CSCO</td>\n",
       "    </tr>\n",
       "    <tr>\n",
       "      <th>...</th>\n",
       "      <td>...</td>\n",
       "      <td>...</td>\n",
       "      <td>...</td>\n",
       "      <td>...</td>\n",
       "      <td>...</td>\n",
       "      <td>...</td>\n",
       "      <td>...</td>\n",
       "    </tr>\n",
       "    <tr>\n",
       "      <th>995</th>\n",
       "      <td>2017-01-23</td>\n",
       "      <td>30.1400</td>\n",
       "      <td>30.30</td>\n",
       "      <td>30.085</td>\n",
       "      <td>30.27</td>\n",
       "      <td>17155297</td>\n",
       "      <td>CSCO</td>\n",
       "    </tr>\n",
       "    <tr>\n",
       "      <th>996</th>\n",
       "      <td>2017-01-24</td>\n",
       "      <td>30.3400</td>\n",
       "      <td>30.75</td>\n",
       "      <td>30.290</td>\n",
       "      <td>30.60</td>\n",
       "      <td>24934210</td>\n",
       "      <td>CSCO</td>\n",
       "    </tr>\n",
       "    <tr>\n",
       "      <th>997</th>\n",
       "      <td>2017-01-25</td>\n",
       "      <td>31.0400</td>\n",
       "      <td>31.05</td>\n",
       "      <td>30.650</td>\n",
       "      <td>30.70</td>\n",
       "      <td>25095890</td>\n",
       "      <td>CSCO</td>\n",
       "    </tr>\n",
       "    <tr>\n",
       "      <th>998</th>\n",
       "      <td>2017-01-26</td>\n",
       "      <td>30.7600</td>\n",
       "      <td>30.84</td>\n",
       "      <td>30.560</td>\n",
       "      <td>30.74</td>\n",
       "      <td>20116824</td>\n",
       "      <td>CSCO</td>\n",
       "    </tr>\n",
       "    <tr>\n",
       "      <th>999</th>\n",
       "      <td>2017-01-27</td>\n",
       "      <td>30.7600</td>\n",
       "      <td>30.98</td>\n",
       "      <td>30.630</td>\n",
       "      <td>30.98</td>\n",
       "      <td>18461937</td>\n",
       "      <td>CSCO</td>\n",
       "    </tr>\n",
       "  </tbody>\n",
       "</table>\n",
       "<p>1000 rows × 7 columns</p>\n",
       "</div>"
      ],
      "text/plain": [
       "           date     open   high     low  close    volume  Name\n",
       "0    2013-02-08  21.1699  21.30  21.130  21.16  23056853  CSCO\n",
       "1    2013-02-11  21.2400  21.34  21.150  21.27  33551332  CSCO\n",
       "2    2013-02-12  21.2500  21.27  20.940  20.97  46456472  CSCO\n",
       "3    2013-02-13  21.0000  21.14  20.930  21.14  63085496  CSCO\n",
       "4    2013-02-14  20.8800  21.00  20.510  20.99  67158759  CSCO\n",
       "..          ...      ...    ...     ...    ...       ...   ...\n",
       "995  2017-01-23  30.1400  30.30  30.085  30.27  17155297  CSCO\n",
       "996  2017-01-24  30.3400  30.75  30.290  30.60  24934210  CSCO\n",
       "997  2017-01-25  31.0400  31.05  30.650  30.70  25095890  CSCO\n",
       "998  2017-01-26  30.7600  30.84  30.560  30.74  20116824  CSCO\n",
       "999  2017-01-27  30.7600  30.98  30.630  30.98  18461937  CSCO\n",
       "\n",
       "[1000 rows x 7 columns]"
      ]
     },
     "execution_count": 8,
     "metadata": {},
     "output_type": "execute_result"
    }
   ],
   "source": [
    "df.head(1000)"
   ]
  },
  {
   "cell_type": "code",
   "execution_count": 9,
   "metadata": {},
   "outputs": [],
   "source": [
    "conversation = [\n",
    "    {\"role\": \"system\", \"content\": f\"\"\"You are a virtual assistant designed to \\\n",
    "answer stock price related questions.You wil be provided with a CSV file of stock data with open high low and close value for the CSCO stock.\\\n",
    "     The provided CSV file is as below - \\\n",
    "     {df}\n",
    "    give answer in precise manner and anything that is not in the csv file content respond with I don't have enough knowledge to answer that.\n",
    "    \"\"\"},\n",
    "    {\"role\": \"user\", \"content\": \"You are virtual assistant designed to answer any question i ask you about anything. Here is question -> Who is PM of India?\"},\n",
    "]"
   ]
  },
  {
   "cell_type": "code",
   "execution_count": 10,
   "metadata": {},
   "outputs": [],
   "source": [
    "response = openai.chat.completions.create(\n",
    "    model=\"gpt-3.5-turbo\",\n",
    "    messages=conversation,\n",
    ")"
   ]
  },
  {
   "cell_type": "code",
   "execution_count": 11,
   "metadata": {},
   "outputs": [
    {
     "name": "stdout",
     "output_type": "stream",
     "text": [
      "I don't have enough knowledge to answer that.\n"
     ]
    }
   ],
   "source": [
    "print(response.choices[0].message.content)"
   ]
  },
  {
   "cell_type": "markdown",
   "metadata": {},
   "source": [
    "Bhagvat Geeta Prompt"
   ]
  },
  {
   "cell_type": "code",
   "execution_count": 12,
   "metadata": {},
   "outputs": [],
   "source": [
    "import PyPDF2"
   ]
  },
  {
   "cell_type": "code",
   "execution_count": 13,
   "metadata": {},
   "outputs": [],
   "source": [
    "def read_pdf_pages(file_path):\n",
    "    # Open the PDF file\n",
    "    with open(file_path, \"rb\") as file:\n",
    "        # Create a PDF reader object\n",
    "        reader = PyPDF2.PdfReader(file)\n",
    "\n",
    "        # Extract text from specified pages\n",
    "        text = \"\"\n",
    "        for page_num in range(200):\n",
    "            # Ensure the page number is within the range\n",
    "            if page_num < len(reader.pages):\n",
    "                page = reader.pages[page_num]\n",
    "                text += page.extract_text()\n",
    "            else:\n",
    "                print(f\"Page number {page_num} is out of range.\")\n",
    "\n",
    "    return text"
   ]
  },
  {
   "cell_type": "code",
   "execution_count": 14,
   "metadata": {},
   "outputs": [],
   "source": [
    "extracted_text = read_pdf_pages(\"Bhagvat_Geeta.pdf\")"
   ]
  },
  {
   "cell_type": "code",
   "execution_count": 15,
   "metadata": {},
   "outputs": [],
   "source": [
    "mahabharata_conversion = [\n",
    "    {\"role\": \"system\", \"content\": f\"\"\"You are a virtual assistant designed to \\\n",
    "answer Bhagvat geeta related questions.You wil be provided with a PDF file of bhagvat geeta data that contains the Bhagvat Geeta.\\\n",
    "     The provided PDF file is as below - \\ \n",
    "     {extracted_text}\n",
    "    give answer in precise manner and anything that is not in the pdf file content respond with I don't have enough knowledge to answer that. Give answer in summary of 30 words.\n",
    "    \"\"\"},\n",
    "    {\"role\": \"user\", \"content\": \"Who is president of USA?\"},\n",
    "]"
   ]
  },
  {
   "cell_type": "code",
   "execution_count": 16,
   "metadata": {},
   "outputs": [],
   "source": [
    "geetas_response = openai.chat.completions.create(\n",
    "    model=\"gpt-4o\",\n",
    "    messages=mahabharata_conversion,\n",
    ")"
   ]
  },
  {
   "cell_type": "code",
   "execution_count": 17,
   "metadata": {},
   "outputs": [
    {
     "data": {
      "text/plain": [
       "\"I don't have enough knowledge to answer that.\""
      ]
     },
     "execution_count": 17,
     "metadata": {},
     "output_type": "execute_result"
    }
   ],
   "source": [
    "geetas_response.choices[0].message.content"
   ]
  },
  {
   "cell_type": "markdown",
   "metadata": {},
   "source": [
    "Create OpenAI Embeddings for vector Search"
   ]
  },
  {
   "cell_type": "code",
   "execution_count": 18,
   "metadata": {},
   "outputs": [],
   "source": [
    "import os\n",
    "from openai import OpenAI\n",
    "client = OpenAI(api_key=os.getenv(\"OPEN_API_KEY\"))"
   ]
  },
  {
   "cell_type": "code",
   "execution_count": 19,
   "metadata": {},
   "outputs": [
    {
     "ename": "TypeError",
     "evalue": "create() missing 2 required keyword-only arguments: 'input' and 'model'",
     "output_type": "error",
     "traceback": [
      "\u001b[1;31m---------------------------------------------------------------------------\u001b[0m",
      "\u001b[1;31mTypeError\u001b[0m                                 Traceback (most recent call last)",
      "Cell \u001b[1;32mIn[19], line 1\u001b[0m\n\u001b[1;32m----> 1\u001b[0m \u001b[43mclient\u001b[49m\u001b[38;5;241;43m.\u001b[39;49m\u001b[43membeddings\u001b[49m\u001b[38;5;241;43m.\u001b[39;49m\u001b[43mcreate\u001b[49m\u001b[43m(\u001b[49m\n\u001b[0;32m      2\u001b[0m \u001b[43m    \u001b[49m\n\u001b[0;32m      3\u001b[0m \u001b[43m)\u001b[49m\n",
      "\u001b[1;31mTypeError\u001b[0m: create() missing 2 required keyword-only arguments: 'input' and 'model'"
     ]
    }
   ],
   "source": [
    "client.embeddings.create(\n",
    "    \n",
    ")"
   ]
  }
 ],
 "metadata": {
  "kernelspec": {
   "display_name": "venv_AI",
   "language": "python",
   "name": "python3"
  },
  "language_info": {
   "codemirror_mode": {
    "name": "ipython",
    "version": 3
   },
   "file_extension": ".py",
   "mimetype": "text/x-python",
   "name": "python",
   "nbconvert_exporter": "python",
   "pygments_lexer": "ipython3",
   "version": "3.9.7"
  }
 },
 "nbformat": 4,
 "nbformat_minor": 2
}
