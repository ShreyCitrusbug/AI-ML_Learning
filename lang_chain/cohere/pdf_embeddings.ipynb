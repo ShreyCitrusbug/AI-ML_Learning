{
 "cells": [
  {
   "cell_type": "code",
   "execution_count": 1,
   "metadata": {},
   "outputs": [],
   "source": [
    "import os\n",
    "import cohere\n",
    "\n",
    "from langchain_pinecone import PineconeVectorStore\n",
    "\n",
    "from langchain_cohere import CohereEmbeddings\n",
    "\n",
    "from pinecone import Pinecone, ServerlessSpec\n",
    "from llama_index.llms.cohere import Cohere"
   ]
  },
  {
   "cell_type": "code",
   "execution_count": 2,
   "metadata": {},
   "outputs": [],
   "source": [
    "os.environ[\"COHERE_API_KEY\"] = os.getenv(\"COHERE_API_KEY\")\n",
    "os.environ[\"PINECONE_API_KEY\"] = os.getenv(\"PINECONE_API_KEY\")\n",
    "LANGCHAIN_TRACING_V2 = bool(os.getenv(\"LANGCHAIN_TRACING_V2\"))\n",
    "LANGCHAIN_API_KEY = os.getenv(\"LANG_CHAIN_API_KEY\")\n",
    "pinecone_obj = Pinecone(api_key=os.getenv(\"PINECONE_API_KEY\"))\n",
    "cohere_obj = Cohere(api_key=os.getenv(\"COHERE_API_KEY\"))\n",
    "co = cohere.Client(api_key=os.getenv(\"COHERE_API_KEY\"))"
   ]
  },
  {
   "cell_type": "code",
   "execution_count": 3,
   "metadata": {},
   "outputs": [],
   "source": [
    "index_name = \"bhagvat-geeta-quickstart-index\"\n",
    "if index_name not in pinecone_obj.list_indexes().names():\n",
    "    pinecone_obj.create_index(\n",
    "        name=index_name,\n",
    "        dimension=4096,\n",
    "        metric=\"cosine\",\n",
    "        spec=ServerlessSpec(cloud=\"aws\", region=\"us-east-1\"),\n",
    "    )\n",
    "\n",
    "\n",
    "embeddings = CohereEmbeddings()"
   ]
  },
  {
   "cell_type": "code",
   "execution_count": 4,
   "metadata": {},
   "outputs": [],
   "source": [
    "vectorstore = PineconeVectorStore(index_name=index_name, embedding=embeddings)"
   ]
  },
  {
   "cell_type": "code",
   "execution_count": 5,
   "metadata": {},
   "outputs": [],
   "source": [
    "from langchain.document_loaders import PyPDFLoader\n",
    "from langchain.text_splitter import RecursiveCharacterTextSplitter\n",
    "\n",
    "\n",
    "# path to an example pdf file\n",
    "\n",
    "\n",
    "loader = PyPDFLoader(\"data/Bhagvat_Geeta.pdf\")"
   ]
  },
  {
   "cell_type": "code",
   "execution_count": 6,
   "metadata": {},
   "outputs": [],
   "source": [
    "data = loader.load()\n",
    "text_splitter = RecursiveCharacterTextSplitter(chunk_size=500, chunk_overlap=50)\n",
    "texts = text_splitter.split_documents(data)"
   ]
  },
  {
   "cell_type": "code",
   "execution_count": 7,
   "metadata": {},
   "outputs": [],
   "source": [
    "from langchain_cohere import ChatCohere\n",
    "from langchain.chains.question_answering import load_qa_chain"
   ]
  },
  {
   "cell_type": "code",
   "execution_count": 8,
   "metadata": {},
   "outputs": [],
   "source": [
    "def get_user_input() -> str:\n",
    "    input_message = input(\"what do you want to ask?\")\n",
    "    return input_message"
   ]
  },
  {
   "cell_type": "code",
   "execution_count": 9,
   "metadata": {},
   "outputs": [],
   "source": [
    "def generate_text(prompt, temp=0):\n",
    "    stream = co.chat_stream(\n",
    "        message=prompt, model=\"command-r\", temperature=temp, preamble=\"\"\n",
    "    )\n",
    "    for event in stream:\n",
    "        if event.event_type == \"text-generation\":\n",
    "            print(event.text, end=\"\")"
   ]
  },
  {
   "cell_type": "code",
   "execution_count": 10,
   "metadata": {},
   "outputs": [
    {
     "name": "stdout",
     "output_type": "stream",
     "text": [
      "When choosing a wireless headphone, there are several key features to consider:\n",
      "\n",
      "1. Sound Quality: Wireless headphones should deliver good sound quality, with clear and balanced audio. Pay attention to the driver size, frequency response, and any technologies used to enhance sound.\n",
      "\n",
      "2. Noise Cancellation: If you plan to use your headphones in noisy environments, consider models with active noise cancellation (ANC). This feature reduces external noise, allowing you to focus on your music or calls.\n",
      "\n",
      "3. Connectivity: Ensure the headphones support the latest wireless connectivity standards, such as Bluetooth 5.0 or later. This provides a more stable connection, faster pairing, and low latency. Check the range of the wireless connection too.\n",
      "\n",
      "4. Battery Life: Longer battery life means you can use your headphones for extended periods without worrying about recharging. Look for models with at least 15-20 hours of continuous playback on a single charge. Also, consider the charging time and any quick charging features.\n",
      "\n",
      "5. Comfort and Design: Choose headphones with comfortable ear pads and an ergonomic design that fits your head and ears well. Consider the weight of the headphones, especially if you'll be wearing them for extended periods. Foldable or collapsible designs are convenient for portability.\n",
      "\n",
      "6. Multipoint Connection: This feature allows the headphones to maintain connections with multiple devices simultaneously. It's useful if you switch between different devices often.\n",
      "\n",
      "7. Voice Assistant Integration: If you use voice assistants like Siri or Google Assistant, look for headphones that have built-in support for voice commands.\n",
      "\n",
      "8. Touch or Physical Controls: Decide whether you prefer touch controls for functions like volume and track changing, or physical buttons and dials.\n",
      "\n",
      "9. Water Resistance: If you plan to use your headphones during workouts or in rainy weather, look for an IPX rating that indicates the level of water resistance.\n",
      "\n",
      "10. Price and Reviews: Set a budget for yourself and research the market within that budget. Check reviews from reputable sources and actual users to gauge the performance, reliability, and durability of the headphones you're considering.\n",
      "\n",
      "Remember, you often get what you pay for when it comes to headphones. More expensive models may have higher-quality components, better sound, and additional features. However, it's essential to find a balance between features and your budget. Reading detailed reviews and watching hands-on demonstrations can help you make an informed decision."
     ]
    }
   ],
   "source": [
    "generate_text(\"What features should I consider when choosing a wireless headphone\")"
   ]
  },
  {
   "cell_type": "code",
   "execution_count": 11,
   "metadata": {},
   "outputs": [],
   "source": [
    "pdf_search = PineconeVectorStore.from_documents(\n",
    "    texts, embedding=embeddings, index_name=index_name\n",
    ")\n",
    "llm = ChatCohere(temperature=0, cohere_api_key=os.getenv(\"COHERE_API_KEY\"))\n",
    "chain = load_qa_chain(llm=llm, chain_type=\"stuff\")"
   ]
  },
  {
   "cell_type": "code",
   "execution_count": 16,
   "metadata": {},
   "outputs": [
    {
     "name": "stdout",
     "output_type": "stream",
     "text": [
      "As of my last update in 2023, Narendra Modi is the Prime Minister of India.\n"
     ]
    }
   ],
   "source": [
    "message = get_user_input()\n",
    "\n",
    "\n",
    "query = pdf_search.similarity_search(message)\n",
    "\n",
    "\n",
    "\n",
    "result = chain.run(input_documents=query, question=message)\n",
    "\n",
    "print(result)"
   ]
  },
  {
   "cell_type": "code",
   "execution_count": null,
   "metadata": {},
   "outputs": [],
   "source": []
  }
 ],
 "metadata": {
  "kernelspec": {
   "display_name": "venv_AI",
   "language": "python",
   "name": "python3"
  },
  "language_info": {
   "codemirror_mode": {
    "name": "ipython",
    "version": 3
   },
   "file_extension": ".py",
   "mimetype": "text/x-python",
   "name": "python",
   "nbconvert_exporter": "python",
   "pygments_lexer": "ipython3",
   "version": "3.9.7"
  }
 },
 "nbformat": 4,
 "nbformat_minor": 2
}
