{
 "cells": [
  {
   "cell_type": "code",
   "execution_count": 69,
   "metadata": {},
   "outputs": [],
   "source": [
    "import os\n",
    "import cohere\n",
    "\n",
    "from langchain_pinecone import PineconeVectorStore\n",
    "\n",
    "from langchain_cohere import CohereEmbeddings\n",
    "\n",
    "from pinecone import Pinecone, ServerlessSpec\n",
    "from llama_index.llms.cohere import Cohere"
   ]
  },
  {
   "cell_type": "code",
   "execution_count": 70,
   "metadata": {},
   "outputs": [],
   "source": [
    "os.environ[\"COHERE_API_KEY\"] = os.getenv(\"COHERE_API_KEY\")\n",
    "os.environ[\"PINECONE_API_KEY\"] = os.getenv(\"PINECONE_API_KEY\")\n",
    "LANGCHAIN_TRACING_V2 = bool(os.getenv(\"LANGCHAIN_TRACING_V2\"))\n",
    "LANGCHAIN_API_KEY = os.getenv(\"LANG_CHAIN_API_KEY\")\n",
    "pinecone_obj = Pinecone(api_key=os.getenv(\"PINECONE_API_KEY\"))\n",
    "cohere_obj = Cohere(api_key=os.getenv(\"COHERE_API_KEY\"))\n",
    "co = cohere.Client(api_key=os.getenv(\"COHERE_API_KEY\"))"
   ]
  },
  {
   "cell_type": "code",
   "execution_count": 71,
   "metadata": {},
   "outputs": [],
   "source": [
    "index_name = \"bhagvat-geeta-quickstart-index\"\n",
    "if index_name not in pinecone_obj.list_indexes().names():\n",
    "    pinecone_obj.create_index(\n",
    "        name=index_name,\n",
    "        dimension=4096,\n",
    "        metric=\"cosine\",\n",
    "        spec=ServerlessSpec(cloud=\"aws\", region=\"us-east-1\"),\n",
    "    )\n",
    "\n",
    "\n",
    "embeddings = CohereEmbeddings()"
   ]
  },
  {
   "cell_type": "code",
   "execution_count": 72,
   "metadata": {},
   "outputs": [],
   "source": [
    "vectorstore = PineconeVectorStore(index_name=index_name, embedding=embeddings)"
   ]
  },
  {
   "cell_type": "code",
   "execution_count": 73,
   "metadata": {},
   "outputs": [],
   "source": [
    "from langchain.document_loaders import PyPDFLoader\n",
    "from langchain.text_splitter import RecursiveCharacterTextSplitter\n",
    "\n",
    "\n",
    "# path to an example pdf file\n",
    "\n",
    "\n",
    "loader = PyPDFLoader(\"data/Bhagvat_Geeta.pdf\")"
   ]
  },
  {
   "cell_type": "code",
   "execution_count": 74,
   "metadata": {},
   "outputs": [],
   "source": [
    "data = loader.load()\n",
    "text_splitter = RecursiveCharacterTextSplitter(\n",
    "    chunk_size=500, chunk_overlap=50)\n",
    "texts = text_splitter.split_documents(data)"
   ]
  },
  {
   "cell_type": "code",
   "execution_count": 75,
   "metadata": {},
   "outputs": [],
   "source": [
    "from langchain_cohere import ChatCohere\n",
    "from langchain.chains.question_answering import load_qa_chain"
   ]
  },
  {
   "cell_type": "code",
   "execution_count": 76,
   "metadata": {},
   "outputs": [],
   "source": [
    "def get_user_input() -> str:\n",
    "    input_message = input(\"what do you want to ask?\")\n",
    "    return input_message"
   ]
  },
  {
   "cell_type": "code",
   "execution_count": 80,
   "metadata": {},
   "outputs": [],
   "source": [
    "def generate_text(prompt, temp=0):\n",
    "    stream = co.chat_stream(\n",
    "        message=prompt, model=\"command-r\", temperature=temp, preamble=\"\"\n",
    "    )\n",
    "    for event in stream:\n",
    "        if event.event_type == \"text-generation\":\n",
    "            print(event.text, end=\"\")"
   ]
  },
  {
   "cell_type": "code",
   "execution_count": 82,
   "metadata": {},
   "outputs": [
    {
     "name": "stdout",
     "output_type": "stream",
     "text": [
      "When choosing a wireless headphone, there are several key features to consider:\n",
      "\n",
      "1. Sound Quality: Wireless headphones should deliver good sound quality, with clear and balanced audio. Pay attention to the driver size, frequency response, and any technologies used to enhance sound.\n",
      "\n",
      "2. Noise Cancellation: If you plan to use your headphones in noisy environments, consider models with active noise cancellation (ANC). This feature reduces external noise, allowing you to focus on your music or calls.\n",
      "\n",
      "3. Connectivity: Ensure the headphones support the latest wireless connectivity standards, such as Bluetooth 5.0 or later. This provides a more stable connection, faster pairing, and low latency. Check the range of the wireless connection too.\n",
      "\n",
      "4. Battery Life: Longer battery life means you can use your headphones for extended periods without worrying about recharging. Look for models with at least 15-20 hours of continuous playback on a single charge. Also, consider the charging time and any quick charging features.\n",
      "\n",
      "5. Comfort and Design: Choose headphones with comfortable ear pads and an ergonomic design that fits your head and ears well. Consider the weight of the headphones, especially if you'll be wearing them for prolonged periods. Foldable designs and swiveling earcups can make them more portable.\n",
      "\n",
      "6. Controls and Microphone: Examine the control scheme of the headphones. Easy-to-use buttons or touch controls for adjusting volume, skipping tracks, and taking calls are convenient. Ensure the microphone quality is good for clear voice calls and voice assistant interaction.\n",
      "\n",
      "7. Multipoint Connection: This feature allows the headphones to be simultaneously connected to multiple devices. It's useful if you often switch between different gadgets.\n",
      "\n",
      "8. Water and Sweat Resistance: If you plan to use your headphones during workouts or in rainy conditions, look for an IPX rating that indicates the level of water resistance.\n",
      "\n",
      "9. Price and Warranty: Wireless headphones vary widely in price. Set a budget for yourself and look for a model that offers the best features within your price range. Also, check the warranty period and customer support policies.\n",
      "\n",
      "10. Compatibility: Ensure the headphones are compatible with your devices, such as smartphones, tablets, or laptops. Some headphones may have specific apps or features that work only with certain platforms (e.g., Apple or Android).\n",
      "\n",
      "11. Voice Assistant Integration: If you use voice assistants like Siri or Google Assistant, check if the headphones have integrated support for them.\n",
      "\n",
      "12. Accessory and Extras: Some headphones come with carrying cases, cables for wired listening, or different-sized tips for a personalized fit. These extras can enhance your overall experience.\n",
      "\n",
      "Read reviews, compare specifications, and consider trying on different models to find the wireless headphones that best suit your needs and preferences."
     ]
    }
   ],
   "source": [
    "generate_text(\n",
    "    \"What features should I consider when choosing a wireless headphone\")"
   ]
  },
  {
   "cell_type": "code",
   "execution_count": null,
   "metadata": {},
   "outputs": [],
   "source": [
    "pdf_search = PineconeVectorStore.from_documents(\n",
    "    texts, embedding=embeddings, index_name=index_name\n",
    ")\n",
    "llm = ChatCohere(temperature=0, cohere_api_key=os.getenv(\"COHERE_API_KEY\"))\n",
    "chain = load_qa_chain(llm=llm, chain_type=\"stuff\")"
   ]
  },
  {
   "cell_type": "code",
   "execution_count": null,
   "metadata": {},
   "outputs": [
    {
     "name": "stdout",
     "output_type": "stream",
     "text": [
      "I'm sorry, but I don't know how to control the sound levels. Is there anything else I can help you with?\n"
     ]
    }
   ],
   "source": [
    "message = get_user_input()\n",
    "\n",
    "\n",
    "\n",
    "query = pdf_search.similarity_search(message)\n",
    "\n",
    "\n",
    "result = chain.run(input_documents=query, question=message)\n",
    "print(result)"
   ]
  },
  {
   "cell_type": "code",
   "execution_count": null,
   "metadata": {},
   "outputs": [],
   "source": []
  }
 ],
 "metadata": {
  "kernelspec": {
   "display_name": "venv_AI",
   "language": "python",
   "name": "python3"
  },
  "language_info": {
   "codemirror_mode": {
    "name": "ipython",
    "version": 3
   },
   "file_extension": ".py",
   "mimetype": "text/x-python",
   "name": "python",
   "nbconvert_exporter": "python",
   "pygments_lexer": "ipython3",
   "version": "3.9.7"
  }
 },
 "nbformat": 4,
 "nbformat_minor": 2
}
